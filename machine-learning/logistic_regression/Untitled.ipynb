{
 "cells": [
  {
   "cell_type": "code",
   "execution_count": 15,
   "id": "e4a5b33e",
   "metadata": {},
   "outputs": [
    {
     "data": {
      "text/plain": [
       "[[1200, 400], [350, 1050]]"
      ]
     },
     "execution_count": 15,
     "metadata": {},
     "output_type": "execute_result"
    }
   ],
   "source": [
    "confusion2 = [[1200, 400], [350, 1050]]\n",
    "confusion2"
   ]
  },
  {
   "cell_type": "code",
   "execution_count": 16,
   "id": "73143747",
   "metadata": {},
   "outputs": [
    {
     "data": {
      "text/plain": [
       "1050"
      ]
     },
     "execution_count": 16,
     "metadata": {},
     "output_type": "execute_result"
    }
   ],
   "source": [
    "confusion2[1][1]"
   ]
  },
  {
   "cell_type": "code",
   "execution_count": 17,
   "id": "29cea0b4",
   "metadata": {},
   "outputs": [],
   "source": [
    "TP = confusion2[1][1] # true positive \n",
    "TN = confusion2[0][0] # true negatives\n",
    "FP = confusion2[0][1] # false positives\n",
    "FN = confusion2[1][0] # false negatives"
   ]
  },
  {
   "cell_type": "code",
   "execution_count": 25,
   "id": "4d0d895f",
   "metadata": {},
   "outputs": [],
   "source": [
    "TN = 3\n",
    "\n",
    "FP = 2\n",
    "\n",
    "FN = 1\n",
    "\n",
    "TP = 4"
   ]
  },
  {
   "cell_type": "code",
   "execution_count": 26,
   "id": "a823977f",
   "metadata": {},
   "outputs": [
    {
     "data": {
      "text/plain": [
       "0.8"
      ]
     },
     "execution_count": 26,
     "metadata": {},
     "output_type": "execute_result"
    }
   ],
   "source": [
    "# Let's see the sensitivity of our logistic regression model\n",
    "TP / float(TP+FN)"
   ]
  },
  {
   "cell_type": "code",
   "execution_count": 27,
   "id": "83673e72",
   "metadata": {},
   "outputs": [
    {
     "data": {
      "text/plain": [
       "0.6"
      ]
     },
     "execution_count": 27,
     "metadata": {},
     "output_type": "execute_result"
    }
   ],
   "source": [
    "# Let us calculate specificity\n",
    "TN / float(TN+FP)"
   ]
  },
  {
   "cell_type": "code",
   "execution_count": 28,
   "id": "afa8e906",
   "metadata": {},
   "outputs": [
    {
     "data": {
      "text/plain": [
       "-0.022727272727272707"
      ]
     },
     "execution_count": 28,
     "metadata": {},
     "output_type": "execute_result"
    }
   ],
   "source": [
    "0.75 - 0.7727272727272727"
   ]
  },
  {
   "cell_type": "code",
   "execution_count": 29,
   "id": "11748e7e",
   "metadata": {},
   "outputs": [
    {
     "data": {
      "text/plain": [
       "0.6666666666666666"
      ]
     },
     "execution_count": 29,
     "metadata": {},
     "output_type": "execute_result"
    }
   ],
   "source": [
    "#Precision¶\n",
    "#TP / TP + FP\n",
    "TP / (TP + FP)"
   ]
  },
  {
   "cell_type": "code",
   "execution_count": 30,
   "id": "826e1547",
   "metadata": {},
   "outputs": [
    {
     "data": {
      "text/plain": [
       "0.8"
      ]
     },
     "execution_count": 30,
     "metadata": {},
     "output_type": "execute_result"
    }
   ],
   "source": [
    "#Recall\n",
    "TP / (TP + FN)"
   ]
  },
  {
   "cell_type": "code",
   "execution_count": 31,
   "id": "5e99d7c3",
   "metadata": {},
   "outputs": [
    {
     "data": {
      "text/plain": [
       "0.4"
      ]
     },
     "execution_count": 31,
     "metadata": {},
     "output_type": "execute_result"
    }
   ],
   "source": [
    "# Calculate false postive rate - predicting churn when customer does not have churned\n",
    "FP/ float(TN+FP)"
   ]
  },
  {
   "cell_type": "code",
   "execution_count": null,
   "id": "91005186",
   "metadata": {},
   "outputs": [],
   "source": []
  }
 ],
 "metadata": {
  "kernelspec": {
   "display_name": "Python 3",
   "language": "python",
   "name": "python3"
  },
  "language_info": {
   "codemirror_mode": {
    "name": "ipython",
    "version": 3
   },
   "file_extension": ".py",
   "mimetype": "text/x-python",
   "name": "python",
   "nbconvert_exporter": "python",
   "pygments_lexer": "ipython3",
   "version": "3.8.8"
  }
 },
 "nbformat": 4,
 "nbformat_minor": 5
}
