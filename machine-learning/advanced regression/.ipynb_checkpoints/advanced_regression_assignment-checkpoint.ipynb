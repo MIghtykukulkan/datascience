{
 "cells": [
  {
   "cell_type": "code",
   "execution_count": 1,
   "id": "57ada43a",
   "metadata": {},
   "outputs": [],
   "source": [
    "import pandas as pd\n",
    "import numpy as np\n",
    "import matplotlib.pyplot as plt\n",
    "import seaborn as sns\n",
    "\n",
    "\n",
    "from sklearn.metrics import mean_squared_error, r2_score\n",
    "from sklearn.model_selection import train_test_split\n",
    "from sklearn.preprocessing import MinMaxScaler\n",
    "from sklearn.linear_model import LinearRegression\n",
    "\n",
    "from sklearn.feature_selection import RFE\n",
    "from sklearn.model_selection import GridSearchCV\n",
    "from sklearn.linear_model import Ridge\n",
    "from sklearn.linear_model import Lasso\n",
    "# scaling the features - necessary before using Ridge or Lasso\n",
    "from sklearn.preprocessing import scale"
   ]
  },
  {
   "cell_type": "code",
   "execution_count": 2,
   "id": "1f55180f",
   "metadata": {},
   "outputs": [],
   "source": [
    "df = pd.read_csv(\"train.csv\")"
   ]
  },
  {
   "cell_type": "code",
   "execution_count": 3,
   "id": "0634b22d",
   "metadata": {},
   "outputs": [
    {
     "data": {
      "text/html": [
       "<div>\n",
       "<style scoped>\n",
       "    .dataframe tbody tr th:only-of-type {\n",
       "        vertical-align: middle;\n",
       "    }\n",
       "\n",
       "    .dataframe tbody tr th {\n",
       "        vertical-align: top;\n",
       "    }\n",
       "\n",
       "    .dataframe thead th {\n",
       "        text-align: right;\n",
       "    }\n",
       "</style>\n",
       "<table border=\"1\" class=\"dataframe\">\n",
       "  <thead>\n",
       "    <tr style=\"text-align: right;\">\n",
       "      <th></th>\n",
       "      <th>Id</th>\n",
       "      <th>MSSubClass</th>\n",
       "      <th>MSZoning</th>\n",
       "      <th>LotFrontage</th>\n",
       "      <th>LotArea</th>\n",
       "      <th>Street</th>\n",
       "      <th>Alley</th>\n",
       "      <th>LotShape</th>\n",
       "      <th>LandContour</th>\n",
       "      <th>Utilities</th>\n",
       "      <th>...</th>\n",
       "      <th>PoolArea</th>\n",
       "      <th>PoolQC</th>\n",
       "      <th>Fence</th>\n",
       "      <th>MiscFeature</th>\n",
       "      <th>MiscVal</th>\n",
       "      <th>MoSold</th>\n",
       "      <th>YrSold</th>\n",
       "      <th>SaleType</th>\n",
       "      <th>SaleCondition</th>\n",
       "      <th>SalePrice</th>\n",
       "    </tr>\n",
       "  </thead>\n",
       "  <tbody>\n",
       "    <tr>\n",
       "      <th>0</th>\n",
       "      <td>1</td>\n",
       "      <td>60</td>\n",
       "      <td>RL</td>\n",
       "      <td>65.0</td>\n",
       "      <td>8450</td>\n",
       "      <td>Pave</td>\n",
       "      <td>NaN</td>\n",
       "      <td>Reg</td>\n",
       "      <td>Lvl</td>\n",
       "      <td>AllPub</td>\n",
       "      <td>...</td>\n",
       "      <td>0</td>\n",
       "      <td>NaN</td>\n",
       "      <td>NaN</td>\n",
       "      <td>NaN</td>\n",
       "      <td>0</td>\n",
       "      <td>2</td>\n",
       "      <td>2008</td>\n",
       "      <td>WD</td>\n",
       "      <td>Normal</td>\n",
       "      <td>208500</td>\n",
       "    </tr>\n",
       "    <tr>\n",
       "      <th>1</th>\n",
       "      <td>2</td>\n",
       "      <td>20</td>\n",
       "      <td>RL</td>\n",
       "      <td>80.0</td>\n",
       "      <td>9600</td>\n",
       "      <td>Pave</td>\n",
       "      <td>NaN</td>\n",
       "      <td>Reg</td>\n",
       "      <td>Lvl</td>\n",
       "      <td>AllPub</td>\n",
       "      <td>...</td>\n",
       "      <td>0</td>\n",
       "      <td>NaN</td>\n",
       "      <td>NaN</td>\n",
       "      <td>NaN</td>\n",
       "      <td>0</td>\n",
       "      <td>5</td>\n",
       "      <td>2007</td>\n",
       "      <td>WD</td>\n",
       "      <td>Normal</td>\n",
       "      <td>181500</td>\n",
       "    </tr>\n",
       "    <tr>\n",
       "      <th>2</th>\n",
       "      <td>3</td>\n",
       "      <td>60</td>\n",
       "      <td>RL</td>\n",
       "      <td>68.0</td>\n",
       "      <td>11250</td>\n",
       "      <td>Pave</td>\n",
       "      <td>NaN</td>\n",
       "      <td>IR1</td>\n",
       "      <td>Lvl</td>\n",
       "      <td>AllPub</td>\n",
       "      <td>...</td>\n",
       "      <td>0</td>\n",
       "      <td>NaN</td>\n",
       "      <td>NaN</td>\n",
       "      <td>NaN</td>\n",
       "      <td>0</td>\n",
       "      <td>9</td>\n",
       "      <td>2008</td>\n",
       "      <td>WD</td>\n",
       "      <td>Normal</td>\n",
       "      <td>223500</td>\n",
       "    </tr>\n",
       "    <tr>\n",
       "      <th>3</th>\n",
       "      <td>4</td>\n",
       "      <td>70</td>\n",
       "      <td>RL</td>\n",
       "      <td>60.0</td>\n",
       "      <td>9550</td>\n",
       "      <td>Pave</td>\n",
       "      <td>NaN</td>\n",
       "      <td>IR1</td>\n",
       "      <td>Lvl</td>\n",
       "      <td>AllPub</td>\n",
       "      <td>...</td>\n",
       "      <td>0</td>\n",
       "      <td>NaN</td>\n",
       "      <td>NaN</td>\n",
       "      <td>NaN</td>\n",
       "      <td>0</td>\n",
       "      <td>2</td>\n",
       "      <td>2006</td>\n",
       "      <td>WD</td>\n",
       "      <td>Abnorml</td>\n",
       "      <td>140000</td>\n",
       "    </tr>\n",
       "    <tr>\n",
       "      <th>4</th>\n",
       "      <td>5</td>\n",
       "      <td>60</td>\n",
       "      <td>RL</td>\n",
       "      <td>84.0</td>\n",
       "      <td>14260</td>\n",
       "      <td>Pave</td>\n",
       "      <td>NaN</td>\n",
       "      <td>IR1</td>\n",
       "      <td>Lvl</td>\n",
       "      <td>AllPub</td>\n",
       "      <td>...</td>\n",
       "      <td>0</td>\n",
       "      <td>NaN</td>\n",
       "      <td>NaN</td>\n",
       "      <td>NaN</td>\n",
       "      <td>0</td>\n",
       "      <td>12</td>\n",
       "      <td>2008</td>\n",
       "      <td>WD</td>\n",
       "      <td>Normal</td>\n",
       "      <td>250000</td>\n",
       "    </tr>\n",
       "  </tbody>\n",
       "</table>\n",
       "<p>5 rows × 81 columns</p>\n",
       "</div>"
      ],
      "text/plain": [
       "   Id  MSSubClass MSZoning  LotFrontage  LotArea Street Alley LotShape  \\\n",
       "0   1          60       RL         65.0     8450   Pave   NaN      Reg   \n",
       "1   2          20       RL         80.0     9600   Pave   NaN      Reg   \n",
       "2   3          60       RL         68.0    11250   Pave   NaN      IR1   \n",
       "3   4          70       RL         60.0     9550   Pave   NaN      IR1   \n",
       "4   5          60       RL         84.0    14260   Pave   NaN      IR1   \n",
       "\n",
       "  LandContour Utilities  ... PoolArea PoolQC Fence MiscFeature MiscVal MoSold  \\\n",
       "0         Lvl    AllPub  ...        0    NaN   NaN         NaN       0      2   \n",
       "1         Lvl    AllPub  ...        0    NaN   NaN         NaN       0      5   \n",
       "2         Lvl    AllPub  ...        0    NaN   NaN         NaN       0      9   \n",
       "3         Lvl    AllPub  ...        0    NaN   NaN         NaN       0      2   \n",
       "4         Lvl    AllPub  ...        0    NaN   NaN         NaN       0     12   \n",
       "\n",
       "  YrSold  SaleType  SaleCondition  SalePrice  \n",
       "0   2008        WD         Normal     208500  \n",
       "1   2007        WD         Normal     181500  \n",
       "2   2008        WD         Normal     223500  \n",
       "3   2006        WD        Abnorml     140000  \n",
       "4   2008        WD         Normal     250000  \n",
       "\n",
       "[5 rows x 81 columns]"
      ]
     },
     "execution_count": 3,
     "metadata": {},
     "output_type": "execute_result"
    }
   ],
   "source": [
    "df.head()"
   ]
  },
  {
   "cell_type": "markdown",
   "id": "4aed3117",
   "metadata": {},
   "source": [
    "## Undersanding the data"
   ]
  },
  {
   "cell_type": "code",
   "execution_count": 4,
   "id": "4dbf3744",
   "metadata": {},
   "outputs": [
    {
     "name": "stdout",
     "output_type": "stream",
     "text": [
      "<class 'pandas.core.frame.DataFrame'>\n",
      "RangeIndex: 1460 entries, 0 to 1459\n",
      "Data columns (total 81 columns):\n",
      " #   Column         Non-Null Count  Dtype  \n",
      "---  ------         --------------  -----  \n",
      " 0   Id             1460 non-null   int64  \n",
      " 1   MSSubClass     1460 non-null   int64  \n",
      " 2   MSZoning       1460 non-null   object \n",
      " 3   LotFrontage    1201 non-null   float64\n",
      " 4   LotArea        1460 non-null   int64  \n",
      " 5   Street         1460 non-null   object \n",
      " 6   Alley          91 non-null     object \n",
      " 7   LotShape       1460 non-null   object \n",
      " 8   LandContour    1460 non-null   object \n",
      " 9   Utilities      1460 non-null   object \n",
      " 10  LotConfig      1460 non-null   object \n",
      " 11  LandSlope      1460 non-null   object \n",
      " 12  Neighborhood   1460 non-null   object \n",
      " 13  Condition1     1460 non-null   object \n",
      " 14  Condition2     1460 non-null   object \n",
      " 15  BldgType       1460 non-null   object \n",
      " 16  HouseStyle     1460 non-null   object \n",
      " 17  OverallQual    1460 non-null   int64  \n",
      " 18  OverallCond    1460 non-null   int64  \n",
      " 19  YearBuilt      1460 non-null   int64  \n",
      " 20  YearRemodAdd   1460 non-null   int64  \n",
      " 21  RoofStyle      1460 non-null   object \n",
      " 22  RoofMatl       1460 non-null   object \n",
      " 23  Exterior1st    1460 non-null   object \n",
      " 24  Exterior2nd    1460 non-null   object \n",
      " 25  MasVnrType     1452 non-null   object \n",
      " 26  MasVnrArea     1452 non-null   float64\n",
      " 27  ExterQual      1460 non-null   object \n",
      " 28  ExterCond      1460 non-null   object \n",
      " 29  Foundation     1460 non-null   object \n",
      " 30  BsmtQual       1423 non-null   object \n",
      " 31  BsmtCond       1423 non-null   object \n",
      " 32  BsmtExposure   1422 non-null   object \n",
      " 33  BsmtFinType1   1423 non-null   object \n",
      " 34  BsmtFinSF1     1460 non-null   int64  \n",
      " 35  BsmtFinType2   1422 non-null   object \n",
      " 36  BsmtFinSF2     1460 non-null   int64  \n",
      " 37  BsmtUnfSF      1460 non-null   int64  \n",
      " 38  TotalBsmtSF    1460 non-null   int64  \n",
      " 39  Heating        1460 non-null   object \n",
      " 40  HeatingQC      1460 non-null   object \n",
      " 41  CentralAir     1460 non-null   object \n",
      " 42  Electrical     1459 non-null   object \n",
      " 43  1stFlrSF       1460 non-null   int64  \n",
      " 44  2ndFlrSF       1460 non-null   int64  \n",
      " 45  LowQualFinSF   1460 non-null   int64  \n",
      " 46  GrLivArea      1460 non-null   int64  \n",
      " 47  BsmtFullBath   1460 non-null   int64  \n",
      " 48  BsmtHalfBath   1460 non-null   int64  \n",
      " 49  FullBath       1460 non-null   int64  \n",
      " 50  HalfBath       1460 non-null   int64  \n",
      " 51  BedroomAbvGr   1460 non-null   int64  \n",
      " 52  KitchenAbvGr   1460 non-null   int64  \n",
      " 53  KitchenQual    1460 non-null   object \n",
      " 54  TotRmsAbvGrd   1460 non-null   int64  \n",
      " 55  Functional     1460 non-null   object \n",
      " 56  Fireplaces     1460 non-null   int64  \n",
      " 57  FireplaceQu    770 non-null    object \n",
      " 58  GarageType     1379 non-null   object \n",
      " 59  GarageYrBlt    1379 non-null   float64\n",
      " 60  GarageFinish   1379 non-null   object \n",
      " 61  GarageCars     1460 non-null   int64  \n",
      " 62  GarageArea     1460 non-null   int64  \n",
      " 63  GarageQual     1379 non-null   object \n",
      " 64  GarageCond     1379 non-null   object \n",
      " 65  PavedDrive     1460 non-null   object \n",
      " 66  WoodDeckSF     1460 non-null   int64  \n",
      " 67  OpenPorchSF    1460 non-null   int64  \n",
      " 68  EnclosedPorch  1460 non-null   int64  \n",
      " 69  3SsnPorch      1460 non-null   int64  \n",
      " 70  ScreenPorch    1460 non-null   int64  \n",
      " 71  PoolArea       1460 non-null   int64  \n",
      " 72  PoolQC         7 non-null      object \n",
      " 73  Fence          281 non-null    object \n",
      " 74  MiscFeature    54 non-null     object \n",
      " 75  MiscVal        1460 non-null   int64  \n",
      " 76  MoSold         1460 non-null   int64  \n",
      " 77  YrSold         1460 non-null   int64  \n",
      " 78  SaleType       1460 non-null   object \n",
      " 79  SaleCondition  1460 non-null   object \n",
      " 80  SalePrice      1460 non-null   int64  \n",
      "dtypes: float64(3), int64(35), object(43)\n",
      "memory usage: 924.0+ KB\n"
     ]
    }
   ],
   "source": [
    "# lets understand how many columns are there and learn about it\n",
    "df.info()"
   ]
  },
  {
   "cell_type": "markdown",
   "id": "f917f87e",
   "metadata": {},
   "source": [
    "### observation - the dataset has around 80 colums , it means we have to identify the columns that are going to be really usefull"
   ]
  },
  {
   "cell_type": "code",
   "execution_count": 5,
   "id": "3919f66c",
   "metadata": {},
   "outputs": [
    {
     "data": {
      "text/plain": [
       "(1460, 81)"
      ]
     },
     "execution_count": 5,
     "metadata": {},
     "output_type": "execute_result"
    }
   ],
   "source": [
    "df.shape"
   ]
  },
  {
   "cell_type": "markdown",
   "id": "1ca74ce7",
   "metadata": {},
   "source": [
    "## 2. EDA"
   ]
  },
  {
   "cell_type": "code",
   "execution_count": 6,
   "id": "5d95bc9e",
   "metadata": {},
   "outputs": [
    {
     "data": {
      "text/plain": [
       "LotFrontage      259\n",
       "Alley           1369\n",
       "MasVnrType         8\n",
       "MasVnrArea         8\n",
       "BsmtQual          37\n",
       "BsmtCond          37\n",
       "BsmtExposure      38\n",
       "BsmtFinType1      37\n",
       "BsmtFinType2      38\n",
       "Electrical         1\n",
       "FireplaceQu      690\n",
       "GarageType        81\n",
       "GarageYrBlt       81\n",
       "GarageFinish      81\n",
       "GarageQual        81\n",
       "GarageCond        81\n",
       "PoolQC          1453\n",
       "Fence           1179\n",
       "MiscFeature     1406\n",
       "dtype: int64"
      ]
     },
     "execution_count": 6,
     "metadata": {},
     "output_type": "execute_result"
    }
   ],
   "source": [
    "# lets see if the dataset has missing values\n",
    "pd.set_option('display.max_rows', None)\n",
    "\n",
    "null_columns = df.columns[(df.isnull().sum()/1460*100) > 0]\n",
    "df[null_columns].isnull().sum()\n"
   ]
  },
  {
   "cell_type": "code",
   "execution_count": 7,
   "id": "d06dbe42",
   "metadata": {},
   "outputs": [
    {
     "data": {
      "text/plain": [
       "<AxesSubplot:>"
      ]
     },
     "execution_count": 7,
     "metadata": {},
     "output_type": "execute_result"
    },
    {
     "data": {
      "image/png": "[encoded data removed]",
      "text/plain": [
       "<Figure size 1080x504 with 1 Axes>"
      ]
     },
     "metadata": {
      "needs_background": "light"
     },
     "output_type": "display_data"
    }
   ],
   "source": [
    "plt.figure(figsize=(15,7))\n",
    "(df[null_columns].isnull().sum()/ len(df)* 100).sort_values(ascending=False).plot.bar()"
   ]
  },
  {
   "cell_type": "code",
   "execution_count": 8,
   "id": "cfc399d2",
   "metadata": {},
   "outputs": [],
   "source": [
    "# we shall drop id column\n",
    "df = df.drop(['Id'], axis=1)"
   ]
  },
  {
   "cell_type": "code",
   "execution_count": 9,
   "id": "9a028723",
   "metadata": {},
   "outputs": [
    {
     "data": {
      "text/html": [
       "<div>\n",
       "<style scoped>\n",
       "    .dataframe tbody tr th:only-of-type {\n",
       "        vertical-align: middle;\n",
       "    }\n",
       "\n",
       "    .dataframe tbody tr th {\n",
       "        vertical-align: top;\n",
       "    }\n",
       "\n",
       "    .dataframe thead th {\n",
       "        text-align: right;\n",
       "    }\n",
       "</style>\n",
       "<table border=\"1\" class=\"dataframe\">\n",
       "  <thead>\n",
       "    <tr style=\"text-align: right;\">\n",
       "      <th></th>\n",
       "      <th>Alley</th>\n",
       "      <th>MasVnrType</th>\n",
       "      <th>BsmtQual</th>\n",
       "      <th>BsmtCond</th>\n",
       "      <th>BsmtExposure</th>\n",
       "      <th>BsmtFinType1</th>\n",
       "      <th>BsmtFinType2</th>\n",
       "      <th>Electrical</th>\n",
       "      <th>FireplaceQu</th>\n",
       "      <th>GarageType</th>\n",
       "      <th>GarageFinish</th>\n",
       "      <th>GarageQual</th>\n",
       "      <th>GarageCond</th>\n",
       "      <th>PoolQC</th>\n",
       "      <th>Fence</th>\n",
       "      <th>MiscFeature</th>\n",
       "    </tr>\n",
       "  </thead>\n",
       "  <tbody>\n",
       "    <tr>\n",
       "      <th>count</th>\n",
       "      <td>91</td>\n",
       "      <td>1452</td>\n",
       "      <td>1423</td>\n",
       "      <td>1423</td>\n",
       "      <td>1422</td>\n",
       "      <td>1423</td>\n",
       "      <td>1422</td>\n",
       "      <td>1459</td>\n",
       "      <td>770</td>\n",
       "      <td>1379</td>\n",
       "      <td>1379</td>\n",
       "      <td>1379</td>\n",
       "      <td>1379</td>\n",
       "      <td>7</td>\n",
       "      <td>281</td>\n",
       "      <td>54</td>\n",
       "    </tr>\n",
       "    <tr>\n",
       "      <th>unique</th>\n",
       "      <td>2</td>\n",
       "      <td>4</td>\n",
       "      <td>4</td>\n",
       "      <td>4</td>\n",
       "      <td>4</td>\n",
       "      <td>6</td>\n",
       "      <td>6</td>\n",
       "      <td>5</td>\n",
       "      <td>5</td>\n",
       "      <td>6</td>\n",
       "      <td>3</td>\n",
       "      <td>5</td>\n",
       "      <td>5</td>\n",
       "      <td>3</td>\n",
       "      <td>4</td>\n",
       "      <td>4</td>\n",
       "    </tr>\n",
       "    <tr>\n",
       "      <th>top</th>\n",
       "      <td>Grvl</td>\n",
       "      <td>None</td>\n",
       "      <td>TA</td>\n",
       "      <td>TA</td>\n",
       "      <td>No</td>\n",
       "      <td>Unf</td>\n",
       "      <td>Unf</td>\n",
       "      <td>SBrkr</td>\n",
       "      <td>Gd</td>\n",
       "      <td>Attchd</td>\n",
       "      <td>Unf</td>\n",
       "      <td>TA</td>\n",
       "      <td>TA</td>\n",
       "      <td>Gd</td>\n",
       "      <td>MnPrv</td>\n",
       "      <td>Shed</td>\n",
       "    </tr>\n",
       "    <tr>\n",
       "      <th>freq</th>\n",
       "      <td>50</td>\n",
       "      <td>864</td>\n",
       "      <td>649</td>\n",
       "      <td>1311</td>\n",
       "      <td>953</td>\n",
       "      <td>430</td>\n",
       "      <td>1256</td>\n",
       "      <td>1334</td>\n",
       "      <td>380</td>\n",
       "      <td>870</td>\n",
       "      <td>605</td>\n",
       "      <td>1311</td>\n",
       "      <td>1326</td>\n",
       "      <td>3</td>\n",
       "      <td>157</td>\n",
       "      <td>49</td>\n",
       "    </tr>\n",
       "  </tbody>\n",
       "</table>\n",
       "</div>"
      ],
      "text/plain": [
       "       Alley MasVnrType BsmtQual BsmtCond BsmtExposure BsmtFinType1  \\\n",
       "count     91       1452     1423     1423         1422         1423   \n",
       "unique     2          4        4        4            4            6   \n",
       "top     Grvl       None       TA       TA           No          Unf   \n",
       "freq      50        864      649     1311          953          430   \n",
       "\n",
       "       BsmtFinType2 Electrical FireplaceQu GarageType GarageFinish GarageQual  \\\n",
       "count          1422       1459         770       1379         1379       1379   \n",
       "unique            6          5           5          6            3          5   \n",
       "top             Unf      SBrkr          Gd     Attchd          Unf         TA   \n",
       "freq           1256       1334         380        870          605       1311   \n",
       "\n",
       "       GarageCond PoolQC  Fence MiscFeature  \n",
       "count        1379      7    281          54  \n",
       "unique          5      3      4           4  \n",
       "top            TA     Gd  MnPrv        Shed  \n",
       "freq         1326      3    157          49  "
      ]
     },
     "execution_count": 9,
     "metadata": {},
     "output_type": "execute_result"
    }
   ],
   "source": [
    "# as we understand from the data disctionary for some of the categorical columns, missing values means that,\n",
    "# the feature doesnt exists\n",
    "# so we will replace those missing values to NA\n",
    "df[null_columns].describe(include='object')"
   ]
  },
  {
   "cell_type": "code",
   "execution_count": 10,
   "id": "973ae02f",
   "metadata": {},
   "outputs": [],
   "source": [
    "# lets is replace the missing values from the above columns to 'NA'\n",
    "#Filling missing values for categorical features\n",
    "df['Alley'].fillna('NA',inplace=True)\n",
    "df['PoolQC'].fillna('NA',inplace=True)\n",
    "df['Fence'].fillna('NA',inplace=True)\n",
    "df['MiscFeature'].fillna('NA',inplace=True)\n",
    "df['FireplaceQu'].fillna('NA',inplace=True)\n",
    "df['GarageCond'].fillna('NA',inplace=True)\n",
    "df['GarageQual'].fillna('NA',inplace=True)\n",
    "df['GarageFinish'].fillna('NA',inplace=True)\n",
    "df['GarageType'].fillna('NA',inplace=True)\n",
    "df['BsmtExposure'].fillna('NA',inplace=True)\n",
    "df['BsmtFinType2'].fillna('NA',inplace=True)\n",
    "df['BsmtFinType1'].fillna('NA',inplace=True)\n",
    "df['BsmtQual'].fillna('NA',inplace=True)\n",
    "df['BsmtCond'].fillna('NA',inplace=True)"
   ]
  },
  {
   "cell_type": "code",
   "execution_count": 11,
   "id": "63ded729",
   "metadata": {},
   "outputs": [
    {
     "data": {
      "text/plain": [
       "LotFrontage     259\n",
       "Alley             0\n",
       "MasVnrType        8\n",
       "MasVnrArea        8\n",
       "BsmtQual          0\n",
       "BsmtCond          0\n",
       "BsmtExposure      0\n",
       "BsmtFinType1      0\n",
       "BsmtFinType2      0\n",
       "Electrical        1\n",
       "FireplaceQu       0\n",
       "GarageType        0\n",
       "GarageYrBlt      81\n",
       "GarageFinish      0\n",
       "GarageQual        0\n",
       "GarageCond        0\n",
       "PoolQC            0\n",
       "Fence             0\n",
       "MiscFeature       0\n",
       "dtype: int64"
      ]
     },
     "execution_count": 11,
     "metadata": {},
     "output_type": "execute_result"
    }
   ],
   "source": [
    "df[null_columns].isnull().sum()"
   ]
  },
  {
   "cell_type": "code",
   "execution_count": 12,
   "id": "0581e875",
   "metadata": {},
   "outputs": [],
   "source": [
    "#LotFrontage: Linear feet of street connected to property, lets consider that the neighborhood properties are similar and compute the median and apply it\n",
    "df['LotFrontage'] = df.groupby(\"Neighborhood\")[\"LotFrontage\"].transform(lambda x: x.fillna(x.median()))"
   ]
  },
  {
   "cell_type": "code",
   "execution_count": 13,
   "id": "ad7b6373",
   "metadata": {},
   "outputs": [],
   "source": [
    "df['GarageYrBlt'].describe()\n",
    "# here the values indicates the year build, since we cannot assume a particular year lets replace with 0\n",
    "df['GarageYrBlt'] = df['GarageYrBlt'].fillna(0)"
   ]
  },
  {
   "cell_type": "code",
   "execution_count": 14,
   "id": "90daeda1",
   "metadata": {},
   "outputs": [],
   "source": [
    "#it is safe to remove one row for electrical\n",
    "df = df[~df['Electrical'].isnull()]"
   ]
  },
  {
   "cell_type": "code",
   "execution_count": 15,
   "id": "731ca2c0",
   "metadata": {},
   "outputs": [],
   "source": [
    "#it should be okay to replace with 'NA' as we dont know the value\n",
    "df['MasVnrType'].fillna('None', inplace=True)"
   ]
  },
  {
   "cell_type": "code",
   "execution_count": 16,
   "id": "84f57534",
   "metadata": {},
   "outputs": [],
   "source": [
    "# lets assume that the area is zero\n",
    "df['MasVnrArea'].fillna(0, inplace=True)"
   ]
  },
  {
   "cell_type": "markdown",
   "id": "bd0031da",
   "metadata": {},
   "source": [
    "### Outlier treatment"
   ]
  },
  {
   "cell_type": "code",
   "execution_count": 17,
   "id": "9d665073",
   "metadata": {},
   "outputs": [],
   "source": [
    "\n",
    "\n",
    "# IQR to remove the outlier\n",
    "cols = ['MSSubClass', 'LotFrontage', 'LotArea', 'OverallQual', 'OverallCond', \n",
    "         'YearBuilt', 'YearRemodAdd', 'MasVnrArea', 'BsmtFinSF1', 'BsmtFinSF2', 'BsmtUnfSF', 'TotalBsmtSF', '1stFlrSF',\n",
    "        '2ndFlrSF', 'LowQualFinSF', 'GrLivArea', 'BsmtFullBath', 'BsmtHalfBath', 'FullBath', 'HalfBath', 'BedroomAbvGr', \n",
    "        'KitchenAbvGr', 'TotRmsAbvGrd', 'Fireplaces', 'GarageYrBlt', 'GarageCars', 'GarageArea', 'WoodDeckSF', 'OpenPorchSF',\n",
    "        'EnclosedPorch','ScreenPorch', 'MoSold', 'YrSold', 'SalePrice'] # one or more\n",
    "\n",
    "Q1 = df[cols].quantile(0.05)\n",
    "Q3 = df[cols].quantile(0.95)\n",
    "IQR = Q3 - Q1\n",
    "\n",
    "df = df[~((df[cols] < (Q1 - 1.5 * IQR)) |(df[cols] > (Q3 + 1.5 * IQR))).any(axis=1)]"
   ]
  },
  {
   "cell_type": "code",
   "execution_count": 18,
   "id": "23364e3d",
   "metadata": {},
   "outputs": [
    {
     "data": {
      "image/png": "[encoded data removed]",
      "text/plain": [
       "<Figure size 2160x1080 with 40 Axes>"
      ]
     },
     "metadata": {
      "needs_background": "light"
     },
     "output_type": "display_data"
    }
   ],
   "source": [
    "numeric = df.select_dtypes(include=np.number)\n",
    "numeric.hist(figsize = (30,15), layout = (4,10))\n",
    "plt.show()"
   ]
  },
  {
   "cell_type": "code",
   "execution_count": 19,
   "id": "c454916c",
   "metadata": {},
   "outputs": [],
   "source": [
    "# lets try to calculate the age of certain columns \n",
    "df['YearBuilt_Age'] = 2022 - df['YearBuilt']\n",
    "df['YrSold_Age'] = 2022 - df['YrSold']\n",
    "df['GarageYrBlt_Age'] = 2022 - df['GarageYrBlt'] \n",
    "df['YearRemodAdd_Age'] = 2022 - df['YearRemodAdd']\n",
    "df = df.drop(['YearBuilt','YrSold','GarageYrBlt', 'YearRemodAdd'], axis=1)"
   ]
  },
  {
   "cell_type": "code",
   "execution_count": 20,
   "id": "7ab50625",
   "metadata": {},
   "outputs": [],
   "source": [
    "#lets remove the month sold as it would not make an impact\n",
    "df = df.drop(['MoSold'], axis=1)"
   ]
  },
  {
   "cell_type": "code",
   "execution_count": 21,
   "id": "b6da24c5",
   "metadata": {},
   "outputs": [],
   "source": [
    "categoricalcolumns = df.describe(include=object).columns\n",
    "\n",
    "for i in categoricalcolumns:\n",
    "    df[i] = df[i].astype('category')\n",
    "    "
   ]
  },
  {
   "cell_type": "code",
   "execution_count": 22,
   "id": "c06c194f",
   "metadata": {},
   "outputs": [
    {
     "name": "stderr",
     "output_type": "stream",
     "text": [
      "/home/umashankar/anaconda3/lib/python3.8/site-packages/seaborn/distributions.py:2557: FutureWarning: `distplot` is a deprecated function and will be removed in a future version. Please adapt your code to use either `displot` (a figure-level function with similar flexibility) or `histplot` (an axes-level function for histograms).\n",
      "  warnings.warn(msg, FutureWarning)\n"
     ]
    },
    {
     "data": {
      "text/plain": [
       "<AxesSubplot:xlabel='SalePrice', ylabel='Density'>"
      ]
     },
     "execution_count": 22,
     "metadata": {},
     "output_type": "execute_result"
    },
    {
     "data": {
      "image/png": "[encoded data removed]",
      "text/plain": [
       "<Figure size 432x288 with 1 Axes>"
      ]
     },
     "metadata": {
      "needs_background": "light"
     },
     "output_type": "display_data"
    }
   ],
   "source": [
    "sns.distplot(df['SalePrice'])"
   ]
  },
  {
   "cell_type": "code",
   "execution_count": 23,
   "id": "ae3849c4",
   "metadata": {},
   "outputs": [
    {
     "name": "stderr",
     "output_type": "stream",
     "text": [
      "/home/umashankar/anaconda3/lib/python3.8/site-packages/seaborn/distributions.py:2557: FutureWarning: `distplot` is a deprecated function and will be removed in a future version. Please adapt your code to use either `displot` (a figure-level function with similar flexibility) or `histplot` (an axes-level function for histograms).\n",
      "  warnings.warn(msg, FutureWarning)\n"
     ]
    },
    {
     "data": {
      "text/plain": [
       "<AxesSubplot:xlabel='SalePrice', ylabel='Density'>"
      ]
     },
     "execution_count": 23,
     "metadata": {},
     "output_type": "execute_result"
    },
    {
     "data": {
      "image/png": "[encoded data removed]",
      "text/plain": [
       "<Figure size 432x288 with 1 Axes>"
      ]
     },
     "metadata": {
      "needs_background": "light"
     },
     "output_type": "display_data"
    }
   ],
   "source": [
    "#lets try log transformation\n",
    "df['SalePrice'] = np.log(df['SalePrice'])\n",
    "sns.distplot(df['SalePrice'])"
   ]
  },
  {
   "cell_type": "code",
   "execution_count": 24,
   "id": "b21d7ca3",
   "metadata": {},
   "outputs": [
    {
     "data": {
      "text/html": [
       "<div>\n",
       "<style scoped>\n",
       "    .dataframe tbody tr th:only-of-type {\n",
       "        vertical-align: middle;\n",
       "    }\n",
       "\n",
       "    .dataframe tbody tr th {\n",
       "        vertical-align: top;\n",
       "    }\n",
       "\n",
       "    .dataframe thead th {\n",
       "        text-align: right;\n",
       "    }\n",
       "</style>\n",
       "<table border=\"1\" class=\"dataframe\">\n",
       "  <thead>\n",
       "    <tr style=\"text-align: right;\">\n",
       "      <th></th>\n",
       "      <th>MSSubClass</th>\n",
       "      <th>LotFrontage</th>\n",
       "      <th>LotArea</th>\n",
       "      <th>OverallQual</th>\n",
       "      <th>OverallCond</th>\n",
       "      <th>MasVnrArea</th>\n",
       "      <th>BsmtFinSF1</th>\n",
       "      <th>BsmtFinSF2</th>\n",
       "      <th>BsmtUnfSF</th>\n",
       "      <th>TotalBsmtSF</th>\n",
       "      <th>...</th>\n",
       "      <th>SaleType_ConLI</th>\n",
       "      <th>SaleType_ConLw</th>\n",
       "      <th>SaleType_New</th>\n",
       "      <th>SaleType_Oth</th>\n",
       "      <th>SaleType_WD</th>\n",
       "      <th>SaleCondition_AdjLand</th>\n",
       "      <th>SaleCondition_Alloca</th>\n",
       "      <th>SaleCondition_Family</th>\n",
       "      <th>SaleCondition_Normal</th>\n",
       "      <th>SaleCondition_Partial</th>\n",
       "    </tr>\n",
       "  </thead>\n",
       "  <tbody>\n",
       "    <tr>\n",
       "      <th>0</th>\n",
       "      <td>60</td>\n",
       "      <td>65.0</td>\n",
       "      <td>8450</td>\n",
       "      <td>7</td>\n",
       "      <td>5</td>\n",
       "      <td>196.0</td>\n",
       "      <td>706</td>\n",
       "      <td>0</td>\n",
       "      <td>150</td>\n",
       "      <td>856</td>\n",
       "      <td>...</td>\n",
       "      <td>0</td>\n",
       "      <td>0</td>\n",
       "      <td>0</td>\n",
       "      <td>0</td>\n",
       "      <td>1</td>\n",
       "      <td>0</td>\n",
       "      <td>0</td>\n",
       "      <td>0</td>\n",
       "      <td>1</td>\n",
       "      <td>0</td>\n",
       "    </tr>\n",
       "    <tr>\n",
       "      <th>1</th>\n",
       "      <td>20</td>\n",
       "      <td>80.0</td>\n",
       "      <td>9600</td>\n",
       "      <td>6</td>\n",
       "      <td>8</td>\n",
       "      <td>0.0</td>\n",
       "      <td>978</td>\n",
       "      <td>0</td>\n",
       "      <td>284</td>\n",
       "      <td>1262</td>\n",
       "      <td>...</td>\n",
       "      <td>0</td>\n",
       "      <td>0</td>\n",
       "      <td>0</td>\n",
       "      <td>0</td>\n",
       "      <td>1</td>\n",
       "      <td>0</td>\n",
       "      <td>0</td>\n",
       "      <td>0</td>\n",
       "      <td>1</td>\n",
       "      <td>0</td>\n",
       "    </tr>\n",
       "    <tr>\n",
       "      <th>2</th>\n",
       "      <td>60</td>\n",
       "      <td>68.0</td>\n",
       "      <td>11250</td>\n",
       "      <td>7</td>\n",
       "      <td>5</td>\n",
       "      <td>162.0</td>\n",
       "      <td>486</td>\n",
       "      <td>0</td>\n",
       "      <td>434</td>\n",
       "      <td>920</td>\n",
       "      <td>...</td>\n",
       "      <td>0</td>\n",
       "      <td>0</td>\n",
       "      <td>0</td>\n",
       "      <td>0</td>\n",
       "      <td>1</td>\n",
       "      <td>0</td>\n",
       "      <td>0</td>\n",
       "      <td>0</td>\n",
       "      <td>1</td>\n",
       "      <td>0</td>\n",
       "    </tr>\n",
       "    <tr>\n",
       "      <th>3</th>\n",
       "      <td>70</td>\n",
       "      <td>60.0</td>\n",
       "      <td>9550</td>\n",
       "      <td>7</td>\n",
       "      <td>5</td>\n",
       "      <td>0.0</td>\n",
       "      <td>216</td>\n",
       "      <td>0</td>\n",
       "      <td>540</td>\n",
       "      <td>756</td>\n",
       "      <td>...</td>\n",
       "      <td>0</td>\n",
       "      <td>0</td>\n",
       "      <td>0</td>\n",
       "      <td>0</td>\n",
       "      <td>1</td>\n",
       "      <td>0</td>\n",
       "      <td>0</td>\n",
       "      <td>0</td>\n",
       "      <td>0</td>\n",
       "      <td>0</td>\n",
       "    </tr>\n",
       "    <tr>\n",
       "      <th>4</th>\n",
       "      <td>60</td>\n",
       "      <td>84.0</td>\n",
       "      <td>14260</td>\n",
       "      <td>8</td>\n",
       "      <td>5</td>\n",
       "      <td>350.0</td>\n",
       "      <td>655</td>\n",
       "      <td>0</td>\n",
       "      <td>490</td>\n",
       "      <td>1145</td>\n",
       "      <td>...</td>\n",
       "      <td>0</td>\n",
       "      <td>0</td>\n",
       "      <td>0</td>\n",
       "      <td>0</td>\n",
       "      <td>1</td>\n",
       "      <td>0</td>\n",
       "      <td>0</td>\n",
       "      <td>0</td>\n",
       "      <td>1</td>\n",
       "      <td>0</td>\n",
       "    </tr>\n",
       "  </tbody>\n",
       "</table>\n",
       "<p>5 rows × 248 columns</p>\n",
       "</div>"
      ],
      "text/plain": [
       "   MSSubClass  LotFrontage  LotArea  OverallQual  OverallCond  MasVnrArea  \\\n",
       "0          60         65.0     8450            7            5       196.0   \n",
       "1          20         80.0     9600            6            8         0.0   \n",
       "2          60         68.0    11250            7            5       162.0   \n",
       "3          70         60.0     9550            7            5         0.0   \n",
       "4          60         84.0    14260            8            5       350.0   \n",
       "\n",
       "   BsmtFinSF1  BsmtFinSF2  BsmtUnfSF  TotalBsmtSF  ...  SaleType_ConLI  \\\n",
       "0         706           0        150          856  ...               0   \n",
       "1         978           0        284         1262  ...               0   \n",
       "2         486           0        434          920  ...               0   \n",
       "3         216           0        540          756  ...               0   \n",
       "4         655           0        490         1145  ...               0   \n",
       "\n",
       "   SaleType_ConLw  SaleType_New  SaleType_Oth  SaleType_WD  \\\n",
       "0               0             0             0            1   \n",
       "1               0             0             0            1   \n",
       "2               0             0             0            1   \n",
       "3               0             0             0            1   \n",
       "4               0             0             0            1   \n",
       "\n",
       "   SaleCondition_AdjLand  SaleCondition_Alloca  SaleCondition_Family  \\\n",
       "0                      0                     0                     0   \n",
       "1                      0                     0                     0   \n",
       "2                      0                     0                     0   \n",
       "3                      0                     0                     0   \n",
       "4                      0                     0                     0   \n",
       "\n",
       "   SaleCondition_Normal  SaleCondition_Partial  \n",
       "0                     1                      0  \n",
       "1                     1                      0  \n",
       "2                     1                      0  \n",
       "3                     0                      0  \n",
       "4                     1                      0  \n",
       "\n",
       "[5 rows x 248 columns]"
      ]
     },
     "execution_count": 24,
     "metadata": {},
     "output_type": "execute_result"
    }
   ],
   "source": [
    "# Now lets prepare the data for model , we should first convert the categorical columns to dummy variables\n",
    "numericalcolumns = df.select_dtypes(include=np.number).columns\n",
    "numericalcolumns = numericalcolumns.drop('SalePrice')\n",
    "categoricalcolumns = df.describe(include='category').columns\n",
    "\n",
    "# Convert categorical value into Dummy variable\n",
    "df=pd.get_dummies(df,drop_first=True)\n",
    "df.head()"
   ]
  },
  {
   "cell_type": "code",
   "execution_count": 25,
   "id": "f55914ee",
   "metadata": {},
   "outputs": [
    {
     "data": {
      "text/plain": [
       "(1332, 248)"
      ]
     },
     "execution_count": 25,
     "metadata": {},
     "output_type": "execute_result"
    }
   ],
   "source": [
    "df.shape"
   ]
  },
  {
   "cell_type": "code",
   "execution_count": 26,
   "id": "0382eb88",
   "metadata": {},
   "outputs": [],
   "source": [
    "\n",
    "# storing column names in cols, since column names are (annoyingly) lost after \n",
    "# scaling (the df is converted to a numpy array)\n",
    "y = df.pop('SalePrice')\n",
    "X = df\n",
    "\n"
   ]
  },
  {
   "cell_type": "code",
   "execution_count": 27,
   "id": "907000e0",
   "metadata": {},
   "outputs": [
    {
     "name": "stderr",
     "output_type": "stream",
     "text": [
      "<ipython-input-27-ba3de483a4b1>:11: SettingWithCopyWarning: \n",
      "A value is trying to be set on a copy of a slice from a DataFrame.\n",
      "Try using .loc[row_indexer,col_indexer] = value instead\n",
      "\n",
      "See the caveats in the documentation: https://pandas.pydata.org/pandas-docs/stable/user_guide/indexing.html#returning-a-view-versus-a-copy\n",
      "  X_train[:] = scaler.fit_transform(X_train[:])\n",
      "/home/umashankar/anaconda3/lib/python3.8/site-packages/pandas/core/indexing.py:1738: SettingWithCopyWarning: \n",
      "A value is trying to be set on a copy of a slice from a DataFrame.\n",
      "Try using .loc[row_indexer,col_indexer] = value instead\n",
      "\n",
      "See the caveats in the documentation: https://pandas.pydata.org/pandas-docs/stable/user_guide/indexing.html#returning-a-view-versus-a-copy\n",
      "  self._setitem_single_column(loc, value[:, i].tolist(), pi)\n",
      "<ipython-input-27-ba3de483a4b1>:12: SettingWithCopyWarning: \n",
      "A value is trying to be set on a copy of a slice from a DataFrame.\n",
      "Try using .loc[row_indexer,col_indexer] = value instead\n",
      "\n",
      "See the caveats in the documentation: https://pandas.pydata.org/pandas-docs/stable/user_guide/indexing.html#returning-a-view-versus-a-copy\n",
      "  X_test[:] = scaler.transform(X_test[:])\n",
      "/home/umashankar/anaconda3/lib/python3.8/site-packages/pandas/core/indexing.py:1738: SettingWithCopyWarning: \n",
      "A value is trying to be set on a copy of a slice from a DataFrame.\n",
      "Try using .loc[row_indexer,col_indexer] = value instead\n",
      "\n",
      "See the caveats in the documentation: https://pandas.pydata.org/pandas-docs/stable/user_guide/indexing.html#returning-a-view-versus-a-copy\n",
      "  self._setitem_single_column(loc, value[:, i].tolist(), pi)\n"
     ]
    }
   ],
   "source": [
    "\n",
    "# lets try a simple linear regression\n",
    "# split the model for traning and test\n",
    "\n",
    "# Splitting the data into train and test\n",
    "\n",
    "\n",
    "X_train, X_test, y_train, y_test = train_test_split(X, y, train_size=0.7, test_size=0.3, random_state=42)\n",
    "\n",
    "scaler = MinMaxScaler()\n",
    "\n",
    "X_train[:] = scaler.fit_transform(X_train[:])\n",
    "X_test[:] = scaler.transform(X_test[:])"
   ]
  },
  {
   "cell_type": "markdown",
   "id": "664d34af",
   "metadata": {},
   "source": [
    "# Building the model"
   ]
  },
  {
   "cell_type": "code",
   "execution_count": 28,
   "id": "870cebc1",
   "metadata": {},
   "outputs": [
    {
     "data": {
      "text/plain": [
       "LinearRegression()"
      ]
     },
     "execution_count": 28,
     "metadata": {},
     "output_type": "execute_result"
    }
   ],
   "source": [
    "# Instantiate\n",
    "lm = LinearRegression()\n",
    "\n",
    "# Fit a line\n",
    "lm.fit(X_train, y_train)"
   ]
  },
  {
   "cell_type": "code",
   "execution_count": 29,
   "id": "1112f17c",
   "metadata": {},
   "outputs": [
    {
     "name": "stderr",
     "output_type": "stream",
     "text": [
      "/home/umashankar/anaconda3/lib/python3.8/site-packages/sklearn/utils/validation.py:70: FutureWarning: Pass n_features_to_select=25 as keyword args. From version 1.0 (renaming of 0.25) passing these as positional arguments will result in an error\n",
      "  warnings.warn(f\"Pass {args_msg} as keyword args. From version \"\n"
     ]
    },
    {
     "name": "stdout",
     "output_type": "stream",
     "text": [
      "CPU times: user 5.17 s, sys: 269 ms, total: 5.44 s\n",
      "Wall time: 950 ms\n"
     ]
    }
   ],
   "source": [
    "%%time\n",
    "# lets use the RFE to bring down the number of independant variables\n",
    "\n",
    "rfe = RFE(lm, 25)             # running RFE with 25 variables as output\n",
    "rfe = rfe.fit(X_train, y_train)"
   ]
  },
  {
   "cell_type": "code",
   "execution_count": 30,
   "id": "b6b87d85",
   "metadata": {},
   "outputs": [
    {
     "data": {
      "text/plain": [
       "[('MSSubClass', False, 88),\n",
       " ('LotFrontage', False, 48),\n",
       " ('LotArea', True, 1),\n",
       " ('OverallQual', True, 1),\n",
       " ('OverallCond', True, 1),\n",
       " ('MasVnrArea', False, 144),\n",
       " ('BsmtFinSF1', True, 1),\n",
       " ('BsmtFinSF2', False, 17),\n",
       " ('BsmtUnfSF', False, 16),\n",
       " ('TotalBsmtSF', True, 1),\n",
       " ('1stFlrSF', True, 1),\n",
       " ('2ndFlrSF', False, 2),\n",
       " ('LowQualFinSF', False, 30),\n",
       " ('GrLivArea', True, 1),\n",
       " ('BsmtFullBath', False, 68),\n",
       " ('BsmtHalfBath', False, 175),\n",
       " ('FullBath', False, 112),\n",
       " ('HalfBath', False, 212),\n",
       " ('BedroomAbvGr', False, 90),\n",
       " ('KitchenAbvGr', False, 28),\n",
       " ('TotRmsAbvGrd', False, 85),\n",
       " ('Fireplaces', False, 216),\n",
       " ('GarageCars', False, 5),\n",
       " ('GarageArea', False, 83),\n",
       " ('WoodDeckSF', False, 66),\n",
       " ('OpenPorchSF', False, 60),\n",
       " ('EnclosedPorch', False, 154),\n",
       " ('3SsnPorch', False, 65),\n",
       " ('ScreenPorch', False, 67),\n",
       " ('PoolArea', False, 6),\n",
       " ('MiscVal', False, 127),\n",
       " ('YearBuilt_Age', True, 1),\n",
       " ('YrSold_Age', False, 132),\n",
       " ('GarageYrBlt_Age', False, 53),\n",
       " ('YearRemodAdd_Age', False, 109),\n",
       " ('MSZoning_FV', True, 1),\n",
       " ('MSZoning_RH', True, 1),\n",
       " ('MSZoning_RL', True, 1),\n",
       " ('MSZoning_RM', True, 1),\n",
       " ('Street_Pave', True, 1),\n",
       " ('Alley_NA', False, 134),\n",
       " ('Alley_Pave', False, 135),\n",
       " ('LotShape_IR2', False, 218),\n",
       " ('LotShape_IR3', False, 188),\n",
       " ('LotShape_Reg', False, 192),\n",
       " ('LandContour_HLS', False, 155),\n",
       " ('LandContour_Low', False, 207),\n",
       " ('LandContour_Lvl', False, 156),\n",
       " ('Utilities_NoSeWa', False, 49),\n",
       " ('LotConfig_CulDSac', False, 138),\n",
       " ('LotConfig_FR2', False, 111),\n",
       " ('LotConfig_FR3', False, 191),\n",
       " ('LotConfig_Inside', False, 114),\n",
       " ('LandSlope_Mod', False, 142),\n",
       " ('LandSlope_Sev', False, 58),\n",
       " ('Neighborhood_Blueste', False, 115),\n",
       " ('Neighborhood_BrDale', False, 35),\n",
       " ('Neighborhood_BrkSide', False, 167),\n",
       " ('Neighborhood_ClearCr', False, 209),\n",
       " ('Neighborhood_CollgCr', False, 163),\n",
       " ('Neighborhood_Crawfor', False, 29),\n",
       " ('Neighborhood_Edwards', False, 99),\n",
       " ('Neighborhood_Gilbert', False, 161),\n",
       " ('Neighborhood_IDOTRR', False, 220),\n",
       " ('Neighborhood_MeadowV', False, 37),\n",
       " ('Neighborhood_Mitchel', False, 107),\n",
       " ('Neighborhood_NAmes', False, 152),\n",
       " ('Neighborhood_NPkVill', False, 189),\n",
       " ('Neighborhood_NWAmes', False, 82),\n",
       " ('Neighborhood_NoRidge', False, 208),\n",
       " ('Neighborhood_NridgHt', False, 59),\n",
       " ('Neighborhood_OldTown', False, 137),\n",
       " ('Neighborhood_SWISU', False, 182),\n",
       " ('Neighborhood_Sawyer', False, 153),\n",
       " ('Neighborhood_SawyerW', False, 206),\n",
       " ('Neighborhood_Somerst', False, 199),\n",
       " ('Neighborhood_StoneBr', False, 61),\n",
       " ('Neighborhood_Timber', False, 201),\n",
       " ('Neighborhood_Veenker', False, 181),\n",
       " ('Condition1_Feedr', False, 75),\n",
       " ('Condition1_Norm', False, 72),\n",
       " ('Condition1_PosA', False, 71),\n",
       " ('Condition1_PosN', False, 89),\n",
       " ('Condition1_RRAe', False, 205),\n",
       " ('Condition1_RRAn', False, 74),\n",
       " ('Condition1_RRNe', False, 36),\n",
       " ('Condition1_RRNn', False, 57),\n",
       " ('Condition2_Norm', False, 184),\n",
       " ('Condition2_PosN', False, 32),\n",
       " ('Condition2_RRNn', False, 108),\n",
       " ('BldgType_2fmCon', False, 93),\n",
       " ('BldgType_Duplex', False, 69),\n",
       " ('BldgType_Twnhs', False, 149),\n",
       " ('BldgType_TwnhsE', False, 94),\n",
       " ('HouseStyle_1.5Unf', False, 200),\n",
       " ('HouseStyle_1Story', False, 95),\n",
       " ('HouseStyle_2.5Fin', False, 41),\n",
       " ('HouseStyle_2.5Unf', False, 203),\n",
       " ('HouseStyle_2Story', False, 204),\n",
       " ('HouseStyle_SFoyer', False, 150),\n",
       " ('HouseStyle_SLvl', False, 113),\n",
       " ('RoofStyle_Gable', False, 27),\n",
       " ('RoofStyle_Gambrel', False, 20),\n",
       " ('RoofStyle_Hip', False, 26),\n",
       " ('RoofStyle_Mansard', False, 21),\n",
       " ('RoofStyle_Shed', False, 31),\n",
       " ('RoofMatl_Metal', False, 9),\n",
       " ('RoofMatl_Tar&Grv', True, 1),\n",
       " ('RoofMatl_WdShake', False, 81),\n",
       " ('RoofMatl_WdShngl', False, 84),\n",
       " ('Exterior1st_BrkComm', False, 42),\n",
       " ('Exterior1st_BrkFace', False, 70),\n",
       " ('Exterior1st_CBlock', False, 23),\n",
       " ('Exterior1st_CemntBd', False, 64),\n",
       " ('Exterior1st_HdBoard', False, 196),\n",
       " ('Exterior1st_ImStucc', False, 117),\n",
       " ('Exterior1st_MetalSd', False, 116),\n",
       " ('Exterior1st_Plywood', False, 124),\n",
       " ('Exterior1st_Stone', True, 1),\n",
       " ('Exterior1st_Stucco', False, 186),\n",
       " ('Exterior1st_VinylSd', False, 119),\n",
       " ('Exterior1st_Wd Sdng', False, 193),\n",
       " ('Exterior1st_WdShing', False, 123),\n",
       " ('Exterior2nd_AsphShn', False, 110),\n",
       " ('Exterior2nd_Brk Cmn', False, 141),\n",
       " ('Exterior2nd_BrkFace', False, 164),\n",
       " ('Exterior2nd_CBlock', False, 25),\n",
       " ('Exterior2nd_CmentBd', False, 63),\n",
       " ('Exterior2nd_HdBoard', False, 125),\n",
       " ('Exterior2nd_ImStucc', False, 129),\n",
       " ('Exterior2nd_MetalSd', False, 195),\n",
       " ('Exterior2nd_Other', False, 86),\n",
       " ('Exterior2nd_Plywood', False, 176),\n",
       " ('Exterior2nd_Stone', False, 106),\n",
       " ('Exterior2nd_Stucco', False, 121),\n",
       " ('Exterior2nd_VinylSd', False, 177),\n",
       " ('Exterior2nd_Wd Sdng', False, 122),\n",
       " ('Exterior2nd_Wd Shng', False, 214),\n",
       " ('MasVnrType_BrkFace', False, 80),\n",
       " ('MasVnrType_None', False, 79),\n",
       " ('MasVnrType_Stone', False, 78),\n",
       " ('ExterQual_Fa', False, 91),\n",
       " ('ExterQual_Gd', False, 160),\n",
       " ('ExterQual_TA', False, 159),\n",
       " ('ExterCond_Fa', False, 56),\n",
       " ('ExterCond_Gd', False, 54),\n",
       " ('ExterCond_Po', False, 118),\n",
       " ('ExterCond_TA', False, 55),\n",
       " ('Foundation_CBlock', False, 128),\n",
       " ('Foundation_PConc', False, 105),\n",
       " ('Foundation_Slab', False, 174),\n",
       " ('Foundation_Stone', False, 168),\n",
       " ('Foundation_Wood', False, 38),\n",
       " ('BsmtQual_Fa', False, 151),\n",
       " ('BsmtQual_Gd', False, 131),\n",
       " ('BsmtQual_NA', False, 3),\n",
       " ('BsmtQual_TA', False, 130),\n",
       " ('BsmtCond_Gd', False, 140),\n",
       " ('BsmtCond_NA', False, 11),\n",
       " ('BsmtCond_Po', False, 34),\n",
       " ('BsmtCond_TA', False, 133),\n",
       " ('BsmtExposure_Gd', False, 87),\n",
       " ('BsmtExposure_Mn', False, 172),\n",
       " ('BsmtExposure_NA', False, 77),\n",
       " ('BsmtExposure_No', False, 217),\n",
       " ('BsmtFinType1_BLQ', False, 165),\n",
       " ('BsmtFinType1_GLQ', False, 202),\n",
       " ('BsmtFinType1_LwQ', False, 166),\n",
       " ('BsmtFinType1_NA', False, 7),\n",
       " ('BsmtFinType1_Rec', False, 179),\n",
       " ('BsmtFinType1_Unf', False, 185),\n",
       " ('BsmtFinType2_BLQ', False, 136),\n",
       " ('BsmtFinType2_GLQ', False, 187),\n",
       " ('BsmtFinType2_LwQ', False, 145),\n",
       " ('BsmtFinType2_NA', False, 4),\n",
       " ('BsmtFinType2_Rec', False, 148),\n",
       " ('BsmtFinType2_Unf', False, 158),\n",
       " ('Heating_GasA', False, 96),\n",
       " ('Heating_GasW', False, 97),\n",
       " ('Heating_Grav', True, 1),\n",
       " ('Heating_OthW', False, 46),\n",
       " ('Heating_Wall', False, 44),\n",
       " ('HeatingQC_Fa', False, 102),\n",
       " ('HeatingQC_Gd', False, 171),\n",
       " ('HeatingQC_Po', False, 40),\n",
       " ('HeatingQC_TA', False, 173),\n",
       " ('CentralAir_Y', False, 197),\n",
       " ('Electrical_FuseF', False, 180),\n",
       " ('Electrical_FuseP', False, 33),\n",
       " ('Electrical_Mix', False, 194),\n",
       " ('Electrical_SBrkr', False, 215),\n",
       " ('KitchenQual_Fa', False, 51),\n",
       " ('KitchenQual_Gd', False, 52),\n",
       " ('KitchenQual_TA', False, 50),\n",
       " ('Functional_Maj2', False, 62),\n",
       " ('Functional_Min1', False, 47),\n",
       " ('Functional_Min2', False, 43),\n",
       " ('Functional_Mod', False, 98),\n",
       " ('Functional_Sev', True, 1),\n",
       " ('Functional_Typ', False, 45),\n",
       " ('FireplaceQu_Fa', False, 210),\n",
       " ('FireplaceQu_Gd', False, 211),\n",
       " ('FireplaceQu_NA', False, 162),\n",
       " ('FireplaceQu_Po', False, 219),\n",
       " ('FireplaceQu_TA', False, 178),\n",
       " ('GarageType_Attchd', False, 183),\n",
       " ('GarageType_Basment', False, 139),\n",
       " ('GarageType_BuiltIn', False, 221),\n",
       " ('GarageType_CarPort', True, 1),\n",
       " ('GarageType_Detchd', False, 222),\n",
       " ('GarageType_NA', False, 19),\n",
       " ('GarageFinish_NA', False, 10),\n",
       " ('GarageFinish_RFn', False, 190),\n",
       " ('GarageFinish_Unf', False, 213),\n",
       " ('GarageQual_Fa', True, 1),\n",
       " ('GarageQual_Gd', True, 1),\n",
       " ('GarageQual_NA', True, 1),\n",
       " ('GarageQual_Po', False, 18),\n",
       " ('GarageQual_TA', True, 1),\n",
       " ('GarageCond_Fa', False, 12),\n",
       " ('GarageCond_Gd', False, 13),\n",
       " ('GarageCond_NA', False, 15),\n",
       " ('GarageCond_Po', False, 8),\n",
       " ('GarageCond_TA', False, 14),\n",
       " ('PavedDrive_P', False, 157),\n",
       " ('PavedDrive_Y', False, 198),\n",
       " ('PoolQC_Gd', True, 1),\n",
       " ('PoolQC_NA', True, 1),\n",
       " ('Fence_GdWo', False, 120),\n",
       " ('Fence_MnPrv', False, 169),\n",
       " ('Fence_MnWw', False, 92),\n",
       " ('Fence_NA', False, 170),\n",
       " ('MiscFeature_NA', False, 22),\n",
       " ('MiscFeature_Shed', False, 24),\n",
       " ('SaleType_CWD', False, 146),\n",
       " ('SaleType_Con', False, 39),\n",
       " ('SaleType_ConLD', False, 147),\n",
       " ('SaleType_ConLI', False, 100),\n",
       " ('SaleType_ConLw', True, 1),\n",
       " ('SaleType_New', False, 143),\n",
       " ('SaleType_Oth', False, 101),\n",
       " ('SaleType_WD', False, 103),\n",
       " ('SaleCondition_AdjLand', False, 223),\n",
       " ('SaleCondition_Alloca', False, 104),\n",
       " ('SaleCondition_Family', False, 126),\n",
       " ('SaleCondition_Normal', False, 76),\n",
       " ('SaleCondition_Partial', False, 73)]"
      ]
     },
     "execution_count": 30,
     "metadata": {},
     "output_type": "execute_result"
    }
   ],
   "source": [
    "list(zip(X_train.columns,rfe.support_,rfe.ranking_))"
   ]
  },
  {
   "cell_type": "code",
   "execution_count": 31,
   "id": "9b079f7f",
   "metadata": {},
   "outputs": [
    {
     "data": {
      "text/plain": [
       "Index(['LotArea', 'OverallQual', 'OverallCond', 'BsmtFinSF1', 'TotalBsmtSF',\n",
       "       '1stFlrSF', 'GrLivArea', 'YearBuilt_Age', 'MSZoning_FV', 'MSZoning_RH',\n",
       "       'MSZoning_RL', 'MSZoning_RM', 'Street_Pave', 'RoofMatl_Tar&Grv',\n",
       "       'Exterior1st_Stone', 'Heating_Grav', 'Functional_Sev',\n",
       "       'GarageType_CarPort', 'GarageQual_Fa', 'GarageQual_Gd', 'GarageQual_NA',\n",
       "       'GarageQual_TA', 'PoolQC_Gd', 'PoolQC_NA', 'SaleType_ConLw'],\n",
       "      dtype='object')"
      ]
     },
     "execution_count": 31,
     "metadata": {},
     "output_type": "execute_result"
    }
   ],
   "source": [
    "col = X_train.columns[rfe.support_]\n",
    "col"
   ]
  },
  {
   "cell_type": "code",
   "execution_count": 32,
   "id": "b6cac01a",
   "metadata": {},
   "outputs": [],
   "source": [
    "# Index(['LotArea', 'OverallQual', 'OverallCond', 'YearBuilt', 'BsmtFinSF1', 'TotalBsmtSF', '1stFlrSF', \n",
    "#        '2ndFlrSF', 'GrLivArea', 'BedroomAbvGr', 'TotRmsAbvGrd', 'Street_Pave', 'LandSlope_Sev', \n",
    "#        'Condition2_PosN', 'RoofStyle_Shed', 'RoofMatl_Metal', 'Exterior1st_Stone', 'Exterior2nd_CBlock',\n",
    "#        'ExterQual_Gd', 'ExterQual_TA', 'BsmtCond_Po', 'KitchenQual_TA', 'Functional_Maj2', 'SaleType_CWD', \n",
    "#        'SaleType_Con'], dtype='object')\n"
   ]
  },
  {
   "cell_type": "code",
   "execution_count": 33,
   "id": "3a8f1dc0",
   "metadata": {},
   "outputs": [],
   "source": [
    "col = X_train.columns[rfe.support_]\n",
    "col\n",
    "X_train.columns[~rfe.support_]\n",
    "\n",
    "\n",
    "X_train1=X_train[col]\n",
    "X_test1=X_test[col]\n",
    "\n"
   ]
  },
  {
   "cell_type": "code",
   "execution_count": 34,
   "id": "5ca2b246",
   "metadata": {},
   "outputs": [],
   "source": [
    "lm1=lm.fit(X_train, y_train)"
   ]
  },
  {
   "cell_type": "code",
   "execution_count": 35,
   "id": "90a317e1",
   "metadata": {},
   "outputs": [
    {
     "name": "stdout",
     "output_type": "stream",
     "text": [
      "129212318377.19975\n",
      "[-1.55162259e-01  8.45451355e-02  1.75450492e-01  3.75435849e-01\n",
      "  2.82896408e-01  3.83937147e-02 -4.81136143e+10 -2.13740553e+10\n",
      " -5.13681001e+10  7.04991990e+10 -4.15888934e+11 -2.27024676e+11\n",
      " -5.90403269e+10  4.15888934e+11  4.61843610e-02  2.98252106e-02\n",
      "  3.12345028e-02 -2.30646133e-03 -4.68645096e-02  5.06242870e+11\n",
      "  7.42535591e-02  8.15391541e-04  1.16746902e-01  4.08868790e-02\n",
      "  7.13987350e-02  7.37934113e-02  1.43845677e-02  9.05385017e-02\n",
      "  6.93938732e-02 -4.88943233e+11  2.02653408e-02 -2.91313648e-01\n",
      "  2.17933655e-02  1.06726050e+00 -3.91216278e-02  6.75829887e-01\n",
      "  6.95818782e-01  6.20197296e-01  6.00474358e-01  1.38915777e-01\n",
      " -4.88247871e-02 -4.05291319e-02  8.14437866e-04 -8.55553150e-03\n",
      "  6.14929199e-03  3.13777924e-02  3.66449356e-03  2.00319290e-02\n",
      " -3.19227219e-01  2.12898254e-02 -4.86924648e-02 -2.63755322e-02\n",
      " -2.47297287e-02  2.74305344e-02 -1.38004780e-01 -6.06442094e-02\n",
      " -7.04011917e-02  1.59158707e-02  2.72750854e-03 -2.17132568e-02\n",
      "  1.42232418e-01 -8.08773041e-02 -2.51235962e-02  6.87122345e-04\n",
      " -1.92617416e-01 -6.69698715e-02 -3.09414864e-02 -2.09479332e-02\n",
      " -5.38263321e-02  4.49275970e-03  4.26025391e-02 -3.50418091e-02\n",
      "  2.47025490e-02 -3.19228172e-02 -1.29842758e-02 -8.54682922e-03\n",
      "  8.09949636e-02 -6.69670105e-03 -1.70083046e-02  9.86194611e-02\n",
      "  1.25402927e-01  1.62189007e-01  9.89641845e-02  6.04099035e-03\n",
      "  8.50481987e-02 -1.78819299e-02  1.14531994e-01 -1.60011053e-02\n",
      "  4.46424105e+09 -5.56752682e-02  1.17790222e-01 -7.75333643e-02\n",
      "  3.45535278e-02  6.46009445e-02 -4.28009033e-03 -2.15187073e-02\n",
      "  1.18678147e+08  5.29468060e-03  4.14514542e-03  2.52361298e-02\n",
      "  4.67979908e-02  1.36262414e+11  1.36262414e+11  1.36262414e+11\n",
      "  1.36262414e+11 -2.65860972e+09  1.36262414e+11  1.36262414e+11\n",
      " -8.19250345e-02 -6.89024478e-02  1.59928975e+09  7.95359612e-02\n",
      "  1.92949189e+10 -8.66041183e-02 -5.26905060e-03  2.33688056e-02\n",
      "  7.44056702e-02  1.83463097e-02 -5.61568737e-02 -1.60868168e-02\n",
      "  3.98125648e-02 -2.19688416e-02  4.00850773e-02  6.59620464e-02\n",
      "  4.43452597e-02  5.26392460e-03 -1.92949189e+10  1.53046131e-01\n",
      "  3.70440483e-02  3.00030708e-02 -1.06697083e-02 -3.16518545e-02\n",
      "  1.62482262e-02  1.12484843e-01  5.38384914e-02  2.35261917e-02\n",
      "  6.66205883e-02 -2.28869915e-03  6.50424957e-02  6.65006638e-02\n",
      "  9.05780792e-02 -1.42053487e-01 -2.35266685e-02 -2.66036987e-02\n",
      " -1.13801479e-01 -1.20424271e-01 -1.80499554e-02 -8.68910551e-02\n",
      "  2.39448547e-02  4.41923141e-02 -1.01361275e-02  3.80051136e-03\n",
      " -2.06973910e-01  1.24006271e-02 -2.40592957e-02  5.26308566e+10\n",
      " -2.67320871e-02  7.19413757e-02 -1.18144599e+11  4.77462530e-01\n",
      "  6.84871674e-02  4.22804356e-02  8.21375847e-03 -7.60793686e-02\n",
      " -1.18160248e-03 -2.06098557e-02  3.49044800e-03 -2.41899490e-02\n",
      "  6.55137427e+10 -1.10476017e-02 -4.80270386e-03 -5.55903912e-02\n",
      " -6.73186779e-03 -3.34746838e-02 -8.47454071e-02 -2.90136337e-02\n",
      " -1.78599358e-02  1.34237528e-01  1.74875259e-01 -5.39226532e-02\n",
      " -1.71502329e+04  3.15602779e-01 -3.78046036e-02 -1.75638199e-02\n",
      " -4.89420383e+03 -8.58211517e-03  6.64825439e-02  3.04822922e-02\n",
      " -7.85870254e-02  2.04122730e+02 -1.24931335e-03 -7.40919113e-02\n",
      " -6.28342628e-02 -6.21337891e-02 -2.28096575e-01  3.73806953e-02\n",
      "  1.16861343e-01 -1.52573586e-02 -3.06834191e-01  1.20095015e-01\n",
      " -2.36487389e-03 -2.37846375e-03 -1.05705261e-02  5.39541245e-04\n",
      "  7.69138336e-03  6.39200211e-03  3.66983414e-02  3.03268433e-04\n",
      "  2.80477881e-01  4.69207764e-04  4.29385856e+10 -3.33716123e+09\n",
      "  5.08928299e-03 -2.20489502e-03 -1.81595334e+11 -1.81595334e+11\n",
      " -1.98007122e+10  2.41451175e+09 -1.81595334e+11  1.81595334e+11\n",
      "  1.81595334e+11 -1.98007122e+10 -2.41451175e+09  1.81595334e+11\n",
      "  7.55786896e-03  3.10826302e-02  2.54442585e+11 -2.34500648e+11\n",
      " -2.31734514e-02  1.74906254e-02 -3.23058963e-02  9.43732262e-03\n",
      " -3.09740843e+10 -3.09740843e+10 -9.87410545e-03  9.85749960e-02\n",
      " -3.11009884e-02 -5.45594692e-02  5.01249790e-01 -2.76579857e-02\n",
      " -5.21829128e-02 -4.34646606e-02  0.00000000e+00 -9.17088836e-02\n",
      " -2.93337703e-02  5.92546463e-02  7.16800690e-02]\n"
     ]
    }
   ],
   "source": [
    "print(lm1.intercept_)\n",
    "print(lm1.coef_)"
   ]
  },
  {
   "cell_type": "code",
   "execution_count": 36,
   "id": "d5cf7bd7",
   "metadata": {},
   "outputs": [
    {
     "name": "stdout",
     "output_type": "stream",
     "text": [
      "0.9116063873183917\n",
      "0.8511675122345868\n",
      "12.287809211025284\n",
      "9.532061559978114\n",
      "0.013184344647022837\n",
      "0.023830153899945285\n"
     ]
    }
   ],
   "source": [
    "#r2score,RSS and RMSE\n",
    "y_pred_train = rfe.predict(X_train)\n",
    "y_pred_test = rfe.predict(X_test)\n",
    "\n",
    "metric = []\n",
    "r2_train_lr = r2_score(y_train, y_pred_train)\n",
    "print(r2_train_lr)\n",
    "metric.append(r2_train_lr)\n",
    "\n",
    "r2_test_lr = r2_score(y_test, y_pred_test)\n",
    "print(r2_test_lr)\n",
    "metric.append(r2_test_lr)\n",
    "\n",
    "rss1_lr = np.sum(np.square(y_train - y_pred_train))\n",
    "print(rss1_lr)\n",
    "metric.append(rss1_lr)\n",
    "\n",
    "rss2_lr = np.sum(np.square(y_test - y_pred_test))\n",
    "print(rss2_lr)\n",
    "metric.append(rss2_lr)\n",
    "\n",
    "mse_train_lr = mean_squared_error(y_train, y_pred_train)\n",
    "print(mse_train_lr)\n",
    "metric.append(mse_train_lr**0.5)\n",
    "\n",
    "mse_test_lr = mean_squared_error(y_test, y_pred_test)\n",
    "print(mse_test_lr)\n",
    "metric.append(mse_test_lr**0.5)"
   ]
  },
  {
   "cell_type": "markdown",
   "id": "9072b353",
   "metadata": {},
   "source": [
    "# RIDGE\n"
   ]
  },
  {
   "cell_type": "code",
   "execution_count": 37,
   "id": "4d3c1a36",
   "metadata": {},
   "outputs": [
    {
     "name": "stdout",
     "output_type": "stream",
     "text": [
      "Fitting 5 folds for each of 28 candidates, totalling 140 fits\n"
     ]
    },
    {
     "data": {
      "text/plain": [
       "GridSearchCV(cv=5, estimator=Ridge(),\n",
       "             param_grid={'alpha': [0.0001, 0.001, 0.01, 0.05, 0.1, 0.2, 0.3,\n",
       "                                   0.4, 0.5, 0.6, 0.7, 0.8, 0.9, 1.0, 2.0, 3.0,\n",
       "                                   4.0, 5.0, 6.0, 7.0, 8.0, 9.0, 10.0, 20, 50,\n",
       "                                   100, 500, 1000]},\n",
       "             return_train_score=True, scoring='neg_mean_absolute_error',\n",
       "             verbose=1)"
      ]
     },
     "execution_count": 37,
     "metadata": {},
     "output_type": "execute_result"
    }
   ],
   "source": [
    "# list of alphas to tune\n",
    "params = {'alpha': [0.0001, 0.001, 0.01, 0.05, 0.1, \n",
    " 0.2, 0.3, 0.4, 0.5, 0.6, 0.7, 0.8, 0.9, 1.0, 2.0, 3.0, \n",
    " 4.0, 5.0, 6.0, 7.0, 8.0, 9.0, 10.0, 20, 50, 100, 500, 1000 ]}\n",
    "\n",
    "\n",
    "ridge = Ridge()\n",
    "\n",
    "# cross validation\n",
    "folds = 5\n",
    "ridge_model_cv = GridSearchCV(estimator = ridge, \n",
    "                        param_grid = params, \n",
    "                        scoring= 'neg_mean_absolute_error', \n",
    "                        cv = folds, \n",
    "                        return_train_score=True,\n",
    "                        verbose = 1)            \n",
    "ridge_model_cv.fit(X_train1, y_train) "
   ]
  },
  {
   "cell_type": "code",
   "execution_count": 38,
   "id": "b009ae45",
   "metadata": {},
   "outputs": [
    {
     "name": "stdout",
     "output_type": "stream",
     "text": [
      "{'alpha': 0.5}\n",
      "-0.0875135465637775\n"
     ]
    }
   ],
   "source": [
    "print(ridge_model_cv.best_params_)\n",
    "print(ridge_model_cv.best_score_)"
   ]
  },
  {
   "cell_type": "code",
   "execution_count": 39,
   "id": "75ed106e",
   "metadata": {},
   "outputs": [
    {
     "data": {
      "text/plain": [
       "array([ 0.28910409,  0.77284888,  0.4018336 ,  0.21481525,  0.37892768,\n",
       "        0.12759482,  0.80654631, -0.47852584,  0.36105877,  0.30754152,\n",
       "        0.29350474,  0.23698789,  0.00376733, -0.21021079, -0.22282978,\n",
       "       -0.19938759, -0.25754937,  0.07388264, -0.07426652, -0.10182531,\n",
       "       -0.19110718, -0.09300363,  0.17672827, -0.17672827,  0.21018695])"
      ]
     },
     "execution_count": 39,
     "metadata": {},
     "output_type": "execute_result"
    }
   ],
   "source": [
    "alpha = 0.5\n",
    "ridge = Ridge(alpha=alpha)\n",
    "ridge.fit(X_train1, y_train)\n",
    "ridge.coef_"
   ]
  },
  {
   "cell_type": "code",
   "execution_count": 40,
   "id": "62a4eb66",
   "metadata": {},
   "outputs": [
    {
     "name": "stdout",
     "output_type": "stream",
     "text": [
      "0.9092121169166952\n",
      "0.8813816398841553\n",
      "12.620642512019801\n",
      "7.596980523163969\n",
      "0.013541461922768026\n",
      "0.018992451307909924\n"
     ]
    }
   ],
   "source": [
    "# Lets calculate some metrics such as R2 score, RSS and RMSE\n",
    "y_pred_train = ridge.predict(X_train1)\n",
    "y_pred_test = ridge.predict(X_test1)\n",
    "\n",
    "metric2 = []\n",
    "r2_train_lr = r2_score(y_train, y_pred_train)\n",
    "print(r2_train_lr)\n",
    "metric2.append(r2_train_lr)\n",
    "\n",
    "r2_test_lr = r2_score(y_test, y_pred_test)\n",
    "print(r2_test_lr)\n",
    "metric2.append(r2_test_lr)\n",
    "\n",
    "rss1_lr = np.sum(np.square(y_train - y_pred_train))\n",
    "print(rss1_lr)\n",
    "metric2.append(rss1_lr)\n",
    "\n",
    "rss2_lr = np.sum(np.square(y_test - y_pred_test))\n",
    "print(rss2_lr)\n",
    "metric2.append(rss2_lr)\n",
    "\n",
    "mse_train_lr = mean_squared_error(y_train, y_pred_train)\n",
    "print(mse_train_lr)\n",
    "metric2.append(mse_train_lr**0.5)\n",
    "\n",
    "mse_test_lr = mean_squared_error(y_test, y_pred_test)\n",
    "print(mse_test_lr)\n",
    "metric2.append(mse_test_lr**0.5)"
   ]
  },
  {
   "cell_type": "markdown",
   "id": "a6df6f50",
   "metadata": {},
   "source": [
    "# Lasso "
   ]
  },
  {
   "cell_type": "code",
   "execution_count": 41,
   "id": "b13de247",
   "metadata": {},
   "outputs": [
    {
     "name": "stdout",
     "output_type": "stream",
     "text": [
      "Fitting 5 folds for each of 28 candidates, totalling 140 fits\n"
     ]
    },
    {
     "data": {
      "text/plain": [
       "GridSearchCV(cv=5, estimator=Lasso(),\n",
       "             param_grid={'alpha': [0.0001, 0.001, 0.01, 0.05, 0.1, 0.2, 0.3,\n",
       "                                   0.4, 0.5, 0.6, 0.7, 0.8, 0.9, 1.0, 2.0, 3.0,\n",
       "                                   4.0, 5.0, 6.0, 7.0, 8.0, 9.0, 10.0, 20, 50,\n",
       "                                   100, 500, 1000]},\n",
       "             return_train_score=True, scoring='neg_mean_absolute_error',\n",
       "             verbose=1)"
      ]
     },
     "execution_count": 41,
     "metadata": {},
     "output_type": "execute_result"
    }
   ],
   "source": [
    "lasso = Lasso()\n",
    "\n",
    "# cross validation\n",
    "lasso_model_cv = GridSearchCV(estimator = lasso, \n",
    "                        param_grid = params, \n",
    "                        scoring= 'neg_mean_absolute_error', \n",
    "                        cv = folds, \n",
    "                        return_train_score=True,\n",
    "                        verbose = 1)            \n",
    "\n",
    "lasso_model_cv.fit(X_train1, y_train)"
   ]
  },
  {
   "cell_type": "code",
   "execution_count": 42,
   "id": "36ad8850",
   "metadata": {},
   "outputs": [
    {
     "name": "stdout",
     "output_type": "stream",
     "text": [
      "{'alpha': 0.001}\n",
      "-0.08779896178721773\n"
     ]
    }
   ],
   "source": [
    "print(lasso_model_cv.best_params_)\n",
    "print(lasso_model_cv.best_score_)"
   ]
  },
  {
   "cell_type": "code",
   "execution_count": 44,
   "id": "2ab72e31",
   "metadata": {},
   "outputs": [
    {
     "data": {
      "text/plain": [
       "Lasso(alpha=0.001)"
      ]
     },
     "execution_count": 44,
     "metadata": {},
     "output_type": "execute_result"
    }
   ],
   "source": [
    "alpha =0.001\n",
    "\n",
    "lasso = Lasso(alpha=alpha)\n",
    "        \n",
    "lasso.fit(X_train1, y_train) "
   ]
  },
  {
   "cell_type": "code",
   "execution_count": 45,
   "id": "6e4fd142",
   "metadata": {},
   "outputs": [
    {
     "data": {
      "text/plain": [
       "array([ 0.20919286,  0.80758442,  0.3489039 ,  0.21122843,  0.36664861,\n",
       "        0.08245598,  0.80608084, -0.46159629,  0.07627629,  0.        ,\n",
       "        0.03996217, -0.01997492, -0.        , -0.        , -0.        ,\n",
       "       -0.        , -0.        , -0.        ,  0.        ,  0.        ,\n",
       "       -0.09082117,  0.        ,  0.        , -0.        ,  0.        ])"
      ]
     },
     "execution_count": 45,
     "metadata": {},
     "output_type": "execute_result"
    }
   ],
   "source": [
    "lasso.coef_"
   ]
  },
  {
   "cell_type": "code",
   "execution_count": 46,
   "id": "258da366",
   "metadata": {},
   "outputs": [
    {
     "name": "stdout",
     "output_type": "stream",
     "text": [
      "0.897952691680487\n",
      "0.8893745530518288\n",
      "14.185842359962182\n",
      "7.0850698408812764\n",
      "0.015220860901246976\n",
      "0.01771267460220319\n"
     ]
    }
   ],
   "source": [
    "# Lets calculate some metrics such as R2 score, RSS and RMSE\n",
    "\n",
    "y_pred_train = lasso.predict(X_train1)\n",
    "y_pred_test = lasso.predict(X_test1)\n",
    "\n",
    "metric3 = []\n",
    "r2_train_lr = r2_score(y_train, y_pred_train)\n",
    "print(r2_train_lr)\n",
    "metric3.append(r2_train_lr)\n",
    "\n",
    "r2_test_lr = r2_score(y_test, y_pred_test)\n",
    "print(r2_test_lr)\n",
    "metric3.append(r2_test_lr)\n",
    "\n",
    "rss1_lr = np.sum(np.square(y_train - y_pred_train))\n",
    "print(rss1_lr)\n",
    "metric3.append(rss1_lr)\n",
    "\n",
    "rss2_lr = np.sum(np.square(y_test - y_pred_test))\n",
    "print(rss2_lr)\n",
    "metric3.append(rss2_lr)\n",
    "\n",
    "mse_train_lr = mean_squared_error(y_train, y_pred_train)\n",
    "print(mse_train_lr)\n",
    "metric3.append(mse_train_lr**0.5)\n",
    "\n",
    "mse_test_lr = mean_squared_error(y_test, y_pred_test)\n",
    "print(mse_test_lr)\n",
    "metric3.append(mse_test_lr**0.5)"
   ]
  },
  {
   "cell_type": "code",
   "execution_count": 47,
   "id": "8ae0c023",
   "metadata": {},
   "outputs": [
    {
     "data": {
      "text/html": [
       "<div>\n",
       "<style scoped>\n",
       "    .dataframe tbody tr th:only-of-type {\n",
       "        vertical-align: middle;\n",
       "    }\n",
       "\n",
       "    .dataframe tbody tr th {\n",
       "        vertical-align: top;\n",
       "    }\n",
       "\n",
       "    .dataframe thead th {\n",
       "        text-align: right;\n",
       "    }\n",
       "</style>\n",
       "<table border=\"1\" class=\"dataframe\">\n",
       "  <thead>\n",
       "    <tr style=\"text-align: right;\">\n",
       "      <th></th>\n",
       "      <th>Metric</th>\n",
       "      <th>Linear Regression</th>\n",
       "      <th>Ridge Regression</th>\n",
       "      <th>Lasso Regression</th>\n",
       "    </tr>\n",
       "  </thead>\n",
       "  <tbody>\n",
       "    <tr>\n",
       "      <th>0</th>\n",
       "      <td>R2 Score (Train)</td>\n",
       "      <td>0.911606</td>\n",
       "      <td>0.909212</td>\n",
       "      <td>0.897953</td>\n",
       "    </tr>\n",
       "    <tr>\n",
       "      <th>1</th>\n",
       "      <td>R2 Score (Test)</td>\n",
       "      <td>0.851168</td>\n",
       "      <td>0.881382</td>\n",
       "      <td>0.889375</td>\n",
       "    </tr>\n",
       "    <tr>\n",
       "      <th>2</th>\n",
       "      <td>RSS (Train)</td>\n",
       "      <td>12.287809</td>\n",
       "      <td>12.620643</td>\n",
       "      <td>14.185842</td>\n",
       "    </tr>\n",
       "    <tr>\n",
       "      <th>3</th>\n",
       "      <td>RSS (Test)</td>\n",
       "      <td>9.532062</td>\n",
       "      <td>7.596981</td>\n",
       "      <td>7.085070</td>\n",
       "    </tr>\n",
       "    <tr>\n",
       "      <th>4</th>\n",
       "      <td>MSE (Train)</td>\n",
       "      <td>0.114823</td>\n",
       "      <td>0.116368</td>\n",
       "      <td>0.123373</td>\n",
       "    </tr>\n",
       "    <tr>\n",
       "      <th>5</th>\n",
       "      <td>MSE (Test)</td>\n",
       "      <td>0.154370</td>\n",
       "      <td>0.137813</td>\n",
       "      <td>0.133089</td>\n",
       "    </tr>\n",
       "  </tbody>\n",
       "</table>\n",
       "</div>"
      ],
      "text/plain": [
       "             Metric  Linear Regression  Ridge Regression  Lasso Regression\n",
       "0  R2 Score (Train)           0.911606          0.909212          0.897953\n",
       "1   R2 Score (Test)           0.851168          0.881382          0.889375\n",
       "2       RSS (Train)          12.287809         12.620643         14.185842\n",
       "3        RSS (Test)           9.532062          7.596981          7.085070\n",
       "4       MSE (Train)           0.114823          0.116368          0.123373\n",
       "5        MSE (Test)           0.154370          0.137813          0.133089"
      ]
     },
     "execution_count": 47,
     "metadata": {},
     "output_type": "execute_result"
    }
   ],
   "source": [
    "# Creating a table which contain all the metrics\n",
    "\n",
    "lr_table = {'Metric': ['R2 Score (Train)','R2 Score (Test)','RSS (Train)','RSS (Test)',\n",
    "                       'MSE (Train)','MSE (Test)'], \n",
    "        'Linear Regression': metric\n",
    "        }\n",
    "\n",
    "lr_metric = pd.DataFrame(lr_table ,columns = ['Metric', 'Linear Regression'] )\n",
    "\n",
    "rg_metric = pd.Series(metric2, name = 'Ridge Regression')\n",
    "ls_metric = pd.Series(metric3, name = 'Lasso Regression')\n",
    "\n",
    "final_metric = pd.concat([lr_metric, rg_metric, ls_metric], axis = 1)\n",
    "\n",
    "final_metric"
   ]
  },
  {
   "cell_type": "markdown",
   "id": "dac4d972",
   "metadata": {},
   "source": [
    "# Model Evaluation"
   ]
  },
  {
   "cell_type": "code",
   "execution_count": 53,
   "id": "dd52ab77",
   "metadata": {},
   "outputs": [],
   "source": [
    "ridge_pred = ridge.predict(X_test1)\n",
    "lasso_pred = lasso.predict(X_test1)"
   ]
  },
  {
   "cell_type": "code",
   "execution_count": 56,
   "id": "694875df",
   "metadata": {},
   "outputs": [
    {
     "data": {
      "image/png": "[encoded data removed]",
      "text/plain": [
       "<Figure size 600x400 with 1 Axes>"
      ]
     },
     "metadata": {
      "needs_background": "light"
     },
     "output_type": "display_data"
    }
   ],
   "source": [
    "fig = plt.figure(dpi=100)\n",
    "plt.scatter(y_test,ridge_pred)\n",
    "plt.scatter(y_test,lasso_pred)\n",
    "fig.suptitle('y_test vs ridge_pred', fontsize=15)             \n",
    "plt.xlabel('y_test')                          \n",
    "plt.ylabel('ridge_pred')  \n",
    "plt.show()"
   ]
  },
  {
   "cell_type": "code",
   "execution_count": 59,
   "id": "3a1022f8",
   "metadata": {},
   "outputs": [
    {
     "name": "stderr",
     "output_type": "stream",
     "text": [
      "/home/umashankar/anaconda3/lib/python3.8/site-packages/seaborn/distributions.py:2557: FutureWarning: `distplot` is a deprecated function and will be removed in a future version. Please adapt your code to use either `displot` (a figure-level function with similar flexibility) or `histplot` (an axes-level function for histograms).\n",
      "  warnings.warn(msg, FutureWarning)\n"
     ]
    },
    {
     "data": {
      "image/png": "[encoded data removed]",
      "text/plain": [
       "<Figure size 432x288 with 1 Axes>"
      ]
     },
     "metadata": {
      "needs_background": "light"
     },
     "output_type": "display_data"
    }
   ],
   "source": [
    "y_res=y_test-ridge_pred\n",
    "# residual plot\n",
    "sns.distplot(y_res,kde=True)\n",
    "plt.title('Normality distribution of errors')\n",
    "plt.xlabel(\"Residuals\")\n",
    "plt.show()"
   ]
  },
  {
   "cell_type": "code",
   "execution_count": 60,
   "id": "1516083d",
   "metadata": {},
   "outputs": [
    {
     "name": "stderr",
     "output_type": "stream",
     "text": [
      "/home/umashankar/anaconda3/lib/python3.8/site-packages/seaborn/distributions.py:2557: FutureWarning: `distplot` is a deprecated function and will be removed in a future version. Please adapt your code to use either `displot` (a figure-level function with similar flexibility) or `histplot` (an axes-level function for histograms).\n",
      "  warnings.warn(msg, FutureWarning)\n"
     ]
    },
    {
     "data": {
      "image/png": "[encoded data removed]",
      "text/plain": [
       "<Figure size 432x288 with 1 Axes>"
      ]
     },
     "metadata": {
      "needs_background": "light"
     },
     "output_type": "display_data"
    }
   ],
   "source": [
    "y_res=y_test-lasso_pred\n",
    "# residual plot\n",
    "sns.distplot(y_res,kde=True)\n",
    "plt.title('Normality distribution of errors')\n",
    "plt.xlabel(\"Residuals\")\n",
    "plt.show()"
   ]
  },
  {
   "cell_type": "code",
   "execution_count": 62,
   "id": "55d56502",
   "metadata": {},
   "outputs": [
    {
     "name": "stderr",
     "output_type": "stream",
     "text": [
      "<ipython-input-62-e1b53077187b>:2: UserWarning: Pandas doesn't allow columns to be created via a new attribute name - see https://pandas.pydata.org/pandas-docs/stable/indexing.html#attribute-access\n",
      "  betas.rows = X_train1.columns\n"
     ]
    }
   ],
   "source": [
    "betas = pd.DataFrame(index=X_train1.columns)\n",
    "betas.rows = X_train1.columns"
   ]
  },
  {
   "cell_type": "code",
   "execution_count": 63,
   "id": "ca9d9560",
   "metadata": {},
   "outputs": [],
   "source": [
    "betas['Ridge'] = ridge.coef_\n",
    "betas['Lasso'] = lasso.coef_"
   ]
  },
  {
   "cell_type": "code",
   "execution_count": 72,
   "id": "570a4567",
   "metadata": {},
   "outputs": [
    {
     "data": {
      "text/html": [
       "<div>\n",
       "<style scoped>\n",
       "    .dataframe tbody tr th:only-of-type {\n",
       "        vertical-align: middle;\n",
       "    }\n",
       "\n",
       "    .dataframe tbody tr th {\n",
       "        vertical-align: top;\n",
       "    }\n",
       "\n",
       "    .dataframe thead th {\n",
       "        text-align: right;\n",
       "    }\n",
       "</style>\n",
       "<table border=\"1\" class=\"dataframe\">\n",
       "  <thead>\n",
       "    <tr style=\"text-align: right;\">\n",
       "      <th></th>\n",
       "      <th>Ridge</th>\n",
       "      <th>Lasso</th>\n",
       "    </tr>\n",
       "  </thead>\n",
       "  <tbody>\n",
       "    <tr>\n",
       "      <th>OverallQual</th>\n",
       "      <td>0.772849</td>\n",
       "      <td>0.807584</td>\n",
       "    </tr>\n",
       "    <tr>\n",
       "      <th>GrLivArea</th>\n",
       "      <td>0.806546</td>\n",
       "      <td>0.806081</td>\n",
       "    </tr>\n",
       "    <tr>\n",
       "      <th>TotalBsmtSF</th>\n",
       "      <td>0.378928</td>\n",
       "      <td>0.366649</td>\n",
       "    </tr>\n",
       "    <tr>\n",
       "      <th>OverallCond</th>\n",
       "      <td>0.401834</td>\n",
       "      <td>0.348904</td>\n",
       "    </tr>\n",
       "    <tr>\n",
       "      <th>BsmtFinSF1</th>\n",
       "      <td>0.214815</td>\n",
       "      <td>0.211228</td>\n",
       "    </tr>\n",
       "    <tr>\n",
       "      <th>LotArea</th>\n",
       "      <td>0.289104</td>\n",
       "      <td>0.209193</td>\n",
       "    </tr>\n",
       "    <tr>\n",
       "      <th>1stFlrSF</th>\n",
       "      <td>0.127595</td>\n",
       "      <td>0.082456</td>\n",
       "    </tr>\n",
       "    <tr>\n",
       "      <th>MSZoning_FV</th>\n",
       "      <td>0.361059</td>\n",
       "      <td>0.076276</td>\n",
       "    </tr>\n",
       "    <tr>\n",
       "      <th>MSZoning_RL</th>\n",
       "      <td>0.293505</td>\n",
       "      <td>0.039962</td>\n",
       "    </tr>\n",
       "    <tr>\n",
       "      <th>Functional_Sev</th>\n",
       "      <td>-0.257549</td>\n",
       "      <td>-0.000000</td>\n",
       "    </tr>\n",
       "    <tr>\n",
       "      <th>PoolQC_NA</th>\n",
       "      <td>-0.176728</td>\n",
       "      <td>-0.000000</td>\n",
       "    </tr>\n",
       "    <tr>\n",
       "      <th>PoolQC_Gd</th>\n",
       "      <td>0.176728</td>\n",
       "      <td>0.000000</td>\n",
       "    </tr>\n",
       "    <tr>\n",
       "      <th>GarageQual_TA</th>\n",
       "      <td>-0.093004</td>\n",
       "      <td>0.000000</td>\n",
       "    </tr>\n",
       "    <tr>\n",
       "      <th>GarageQual_Gd</th>\n",
       "      <td>-0.101825</td>\n",
       "      <td>0.000000</td>\n",
       "    </tr>\n",
       "    <tr>\n",
       "      <th>GarageQual_Fa</th>\n",
       "      <td>-0.074267</td>\n",
       "      <td>0.000000</td>\n",
       "    </tr>\n",
       "    <tr>\n",
       "      <th>GarageType_CarPort</th>\n",
       "      <td>0.073883</td>\n",
       "      <td>-0.000000</td>\n",
       "    </tr>\n",
       "    <tr>\n",
       "      <th>Street_Pave</th>\n",
       "      <td>0.003767</td>\n",
       "      <td>-0.000000</td>\n",
       "    </tr>\n",
       "    <tr>\n",
       "      <th>Heating_Grav</th>\n",
       "      <td>-0.199388</td>\n",
       "      <td>-0.000000</td>\n",
       "    </tr>\n",
       "    <tr>\n",
       "      <th>Exterior1st_Stone</th>\n",
       "      <td>-0.222830</td>\n",
       "      <td>-0.000000</td>\n",
       "    </tr>\n",
       "    <tr>\n",
       "      <th>RoofMatl_Tar&amp;Grv</th>\n",
       "      <td>-0.210211</td>\n",
       "      <td>-0.000000</td>\n",
       "    </tr>\n",
       "    <tr>\n",
       "      <th>MSZoning_RH</th>\n",
       "      <td>0.307542</td>\n",
       "      <td>0.000000</td>\n",
       "    </tr>\n",
       "    <tr>\n",
       "      <th>SaleType_ConLw</th>\n",
       "      <td>0.210187</td>\n",
       "      <td>0.000000</td>\n",
       "    </tr>\n",
       "    <tr>\n",
       "      <th>MSZoning_RM</th>\n",
       "      <td>0.236988</td>\n",
       "      <td>-0.019975</td>\n",
       "    </tr>\n",
       "    <tr>\n",
       "      <th>GarageQual_NA</th>\n",
       "      <td>-0.191107</td>\n",
       "      <td>-0.090821</td>\n",
       "    </tr>\n",
       "    <tr>\n",
       "      <th>YearBuilt_Age</th>\n",
       "      <td>-0.478526</td>\n",
       "      <td>-0.461596</td>\n",
       "    </tr>\n",
       "  </tbody>\n",
       "</table>\n",
       "</div>"
      ],
      "text/plain": [
       "                       Ridge     Lasso\n",
       "OverallQual         0.772849  0.807584\n",
       "GrLivArea           0.806546  0.806081\n",
       "TotalBsmtSF         0.378928  0.366649\n",
       "OverallCond         0.401834  0.348904\n",
       "BsmtFinSF1          0.214815  0.211228\n",
       "LotArea             0.289104  0.209193\n",
       "1stFlrSF            0.127595  0.082456\n",
       "MSZoning_FV         0.361059  0.076276\n",
       "MSZoning_RL         0.293505  0.039962\n",
       "Functional_Sev     -0.257549 -0.000000\n",
       "PoolQC_NA          -0.176728 -0.000000\n",
       "PoolQC_Gd           0.176728  0.000000\n",
       "GarageQual_TA      -0.093004  0.000000\n",
       "GarageQual_Gd      -0.101825  0.000000\n",
       "GarageQual_Fa      -0.074267  0.000000\n",
       "GarageType_CarPort  0.073883 -0.000000\n",
       "Street_Pave         0.003767 -0.000000\n",
       "Heating_Grav       -0.199388 -0.000000\n",
       "Exterior1st_Stone  -0.222830 -0.000000\n",
       "RoofMatl_Tar&Grv   -0.210211 -0.000000\n",
       "MSZoning_RH         0.307542  0.000000\n",
       "SaleType_ConLw      0.210187  0.000000\n",
       "MSZoning_RM         0.236988 -0.019975\n",
       "GarageQual_NA      -0.191107 -0.090821\n",
       "YearBuilt_Age      -0.478526 -0.461596"
      ]
     },
     "execution_count": 72,
     "metadata": {},
     "output_type": "execute_result"
    }
   ],
   "source": [
    "pd.set_option('display.max_rows', None)\n",
    "betas.sort_values(ascending=False, by='Lasso')"
   ]
  },
  {
   "cell_type": "markdown",
   "id": "e18f394f",
   "metadata": {},
   "source": [
    "# Conclusion "
   ]
  },
  {
   "cell_type": "code",
   "execution_count": null,
   "id": "af2e636d",
   "metadata": {},
   "outputs": [],
   "source": [
    "# from the beta coefficients above we can conslude that following are the variables that affect the most\n",
    "\n",
    "Following are the variabes are the ones that the company shoud focus on\n",
    "\n",
    "# OverallQual\t0.772849\t0.807584\n",
    "# GrLivArea\t0.806546\t0.806081\n",
    "# TotalBsmtSF\t0.378928\t0.366649\n",
    "# OverallCond\t0.401834\t0.348904\n",
    "# BsmtFinSF1\t0.214815\t0.211228\n",
    "# LotArea\t0.289104\t0.209193\n",
    "# 1stFlrSF\t0.127595\t0.082456\n"
   ]
  }
 ],
 "metadata": {
  "kernelspec": {
   "display_name": "Python 3",
   "language": "python",
   "name": "python3"
  },
  "language_info": {
   "codemirror_mode": {
    "name": "ipython",
    "version": 3
   },
   "file_extension": ".py",
   "mimetype": "text/x-python",
   "name": "python",
   "nbconvert_exporter": "python",
   "pygments_lexer": "ipython3",
   "version": "3.8.8"
  }
 },
 "nbformat": 4,
 "nbformat_minor": 5
}
